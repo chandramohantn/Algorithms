{
 "cells": [
  {
   "cell_type": "code",
   "execution_count": 1,
   "metadata": {
    "collapsed": true
   },
   "outputs": [],
   "source": [
    "class Node:\n",
    "    \n",
    "    def __init__(self, value):\n",
    "        self.value = value\n",
    "        self.link = None"
   ]
  },
  {
   "cell_type": "code",
   "execution_count": 2,
   "metadata": {
    "collapsed": true
   },
   "outputs": [],
   "source": [
    "class Stack:\n",
    "    \n",
    "    def __init__(self):\n",
    "        self.top = None\n",
    "        self.stack_size = 0\n",
    "        \n",
    "    def push(self, value):\n",
    "        node = Node(value)\n",
    "        node.link = self.top\n",
    "        self.top = node\n",
    "        self.stack_size += 1\n",
    "            \n",
    "    def pop(self):\n",
    "        value = self.top.value\n",
    "        self.top = self.top.link\n",
    "        self.stack_size -= 1\n",
    "        return value\n",
    "    \n",
    "    def peek(self):\n",
    "        return self.top.value\n",
    "    \n",
    "    def size(self):\n",
    "        return self.stack_size\n",
    "    \n",
    "    def isEmpty(self):\n",
    "        return True if self.stack_size == 0 else False "
   ]
  },
  {
   "cell_type": "code",
   "execution_count": 3,
   "metadata": {},
   "outputs": [
    {
     "name": "stdout",
     "output_type": "stream",
     "text": [
      "2\n",
      "4\n",
      "2\n",
      "4\n",
      "3\n",
      "False\n"
     ]
    }
   ],
   "source": [
    "stack = Stack()\n",
    "stack.push(1)\n",
    "stack.push(3)\n",
    "stack.push(4)\n",
    "stack.push(2)\n",
    "val = stack.peek()\n",
    "print(val)\n",
    "val = stack.size()\n",
    "print(val)\n",
    "val = stack.pop()\n",
    "print(val)\n",
    "val = stack.peek()\n",
    "print(val)\n",
    "val = stack.size()\n",
    "print(val)\n",
    "val = stack.isEmpty()\n",
    "print(val)"
   ]
  }
 ],
 "metadata": {
  "kernelspec": {
   "display_name": "Python 3",
   "language": "python",
   "name": "python3"
  },
  "language_info": {
   "codemirror_mode": {
    "name": "ipython",
    "version": 3
   },
   "file_extension": ".py",
   "mimetype": "text/x-python",
   "name": "python",
   "nbconvert_exporter": "python",
   "pygments_lexer": "ipython3",
   "version": "3.6.3"
  }
 },
 "nbformat": 4,
 "nbformat_minor": 2
}
