{
 "cells": [
  {
   "cell_type": "code",
   "execution_count": 1,
   "metadata": {},
   "outputs": [],
   "source": [
    "def min_heapify(dist, n, i):\n",
    "    l = 2 * i + 1\n",
    "    r = 2 * i + 2\n",
    "    minm = i\n",
    "    if l < n and dist[l][0] < dist[minm][0]:\n",
    "        minm = l\n",
    "    if r < n and dist[r][0] < dist[minm][0]:\n",
    "        minm = r\n",
    "    if minm != i:\n",
    "        tmp = dist[i]\n",
    "        dist[i] = dist[minm]\n",
    "        dist[minm] = tmp\n",
    "        min_heapify(dist, n, minm)"
   ]
  },
  {
   "cell_type": "code",
   "execution_count": 2,
   "metadata": {},
   "outputs": [],
   "source": [
    "def build_min_heap(dist, n):\n",
    "    for i in range(n//2-1, -1, -1):\n",
    "        min_heapify(dist, n, i)"
   ]
  },
  {
   "cell_type": "code",
   "execution_count": 3,
   "metadata": {},
   "outputs": [],
   "source": [
    "def swap_nodes(min_heap, i, j):\n",
    "    tmp = min_heap[i]\n",
    "    min_heap[i] = min_heap[j]\n",
    "    min_heap[j] = tmp"
   ]
  },
  {
   "cell_type": "code",
   "execution_count": 4,
   "metadata": {},
   "outputs": [],
   "source": [
    "def get_dist_map(dist):\n",
    "    dist_map = {}\n",
    "    for d in dist:\n",
    "        if d[1][0] not in dist_map:\n",
    "            dist_map[d[1][0]] = {}\n",
    "        if d[1][1] not in dist_map[d[1][0]]:\n",
    "            dist_map[d[1][0]][d[1][1]] = d[0]\n",
    "        if d[1][1] not in dist_map:\n",
    "            dist_map[d[1][1]] = {}\n",
    "        if d[1][0] not in dist_map[d[1][1]]:\n",
    "            dist_map[d[1][1]][d[1][0]] = d[0]\n",
    "    return dist_map"
   ]
  },
  {
   "cell_type": "code",
   "execution_count": 5,
   "metadata": {},
   "outputs": [
    {
     "name": "stdout",
     "output_type": "stream",
     "text": [
      "[[10, (0, 1)], [12, (3, 5)], [14, (2, 6)], [16, (2, 5)], [18, (3, 6)], [22, (3, 4)], [24, (4, 6)], [25, (1, 4)], [28, (0, 2)]]\n"
     ]
    },
    {
     "data": {
      "text/plain": [
       "'\\nfor i in range(V):\\n    cur_node = min_heap[0][1]\\n    min_cost += min_heap[0][0]\\n    min_tree.append(min_heap[0][0])\\n    visited[cur_node] = 1\\n    min_heap = min_heap[1:]\\n    \\n    for neighbor in dist_map[cur_node]:\\n        if visited[neighbor] == 0:\\n            min_heap.append([dist_map[cur_node][neighbor], neighbor])\\n    build_min_heap(min_heap, len(min_heap))\\nprint(\"Minimum Cost: \", min_cost)\\nprint(\"Minimum Cost Spanning Tree: \", min_tree[1:])\\n'"
      ]
     },
     "execution_count": 5,
     "metadata": {},
     "output_type": "execute_result"
    }
   ],
   "source": [
    "dist_array = [[10, (0, 1)], [28, (0, 2)], [25, (1, 4)], [16, (2, 5)], [14, (2, 6)], [18, (3, 6)], [22, (3, 4)], \n",
    "              [12, (3, 5)], [24, (4, 6)]]\n",
    "E = len(dist_array)\n",
    "nodes = []\n",
    "for d in dist_array:\n",
    "    nodes.append(d[1][0])\n",
    "    nodes.append(d[1][1])\n",
    "nodes = list(set(nodes))\n",
    "V = len(nodes)\n",
    "set_idx = {}\n",
    "for i in range(V):\n",
    "    set_idx[nodes[i]] = i\n",
    "dist_map = get_dist_map(dist_array)\n",
    "\n",
    "cur_node = 0\n",
    "min_cost = 0\n",
    "min_tree = []\n",
    "n = len(dist_array)\n",
    "par_array = [i for i in range(V)]\n",
    "visited = [0 for _ in range(V)]\n",
    "min_heap = dist_array\n",
    "build_min_heap(min_heap, n)\n",
    "swap_nodes(min_heap, 0, n-1)\n",
    "for i in range(1, n):\n",
    "    min_heapify(min_heap, n-i, 0)\n",
    "    swap_nodes(min_heap, 0, n-i-1)\n",
    "for i in range(n//2):\n",
    "    swap_nodes(min_heap, i, n-i-1)\n",
    "\n",
    "for i in range(V):\n",
    "    cur_edge = min_heap[0][1]\n",
    "    \n",
    "    \n",
    "    cur_node = min_heap[0][1]\n",
    "    min_cost += min_heap[0][0]\n",
    "    min_tree.append(min_heap[0][0])\n",
    "    visited[cur_node] = 1\n",
    "    min_heap = min_heap[1:]\n",
    "    \n",
    "    for neighbor in dist_map[cur_node]:\n",
    "        if visited[neighbor] == 0:\n",
    "            min_heap.append([dist_map[cur_node][neighbor], neighbor])\n",
    "    build_min_heap(min_heap, len(min_heap))\n",
    "print(\"Minimum Cost: \", min_cost)\n",
    "print(\"Minimum Cost Spanning Tree: \", min_tree[1:])"
   ]
  },
  {
   "cell_type": "code",
   "execution_count": null,
   "metadata": {},
   "outputs": [],
   "source": []
  }
 ],
 "metadata": {
  "kernelspec": {
   "display_name": "Python 3",
   "language": "python",
   "name": "python3"
  },
  "language_info": {
   "codemirror_mode": {
    "name": "ipython",
    "version": 3
   },
   "file_extension": ".py",
   "mimetype": "text/x-python",
   "name": "python",
   "nbconvert_exporter": "python",
   "pygments_lexer": "ipython3",
   "version": "3.7.4"
  }
 },
 "nbformat": 4,
 "nbformat_minor": 2
}
