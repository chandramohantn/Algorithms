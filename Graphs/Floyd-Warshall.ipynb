{
 "cells": [
  {
   "cell_type": "code",
   "execution_count": 1,
   "metadata": {},
   "outputs": [],
   "source": [
    "class DirectedGraph:\n",
    "    \n",
    "    def __init__(self):\n",
    "        self.graph = {}\n",
    "        \n",
    "    def add_node(self, node):\n",
    "        self.graph[node] = {}\n",
    "        \n",
    "    def add_connection(self, node1, node2, weight):\n",
    "        self.graph[node1][node2] = weight\n",
    "        \n",
    "    def create_dist_matrix(self):\n",
    "        self.node_index = {}\n",
    "        index = 0\n",
    "        for node in self.graph.keys():\n",
    "            if node not in self.node_index:\n",
    "                self.node_index[node] = index\n",
    "                index += 1\n",
    "            for adj_node in self.graph[node].keys():\n",
    "                if adj_node not in self.node_index:\n",
    "                    self.node_index[adj_node] = index\n",
    "                    index += 1\n",
    "        self.n_nodes = index\n",
    "        self.dist_matrix = [[float(\"inf\") for _ in range(self.n_nodes)] for _ in range(self.n_nodes)]\n",
    "        for node in self.graph.keys():\n",
    "            for adj_node in self.graph[node].keys():\n",
    "                self.dist_matrix[self.node_index[node]][self.node_index[adj_node]] = self.graph[node][adj_node]\n",
    "        for i in range(self.n_nodes):\n",
    "            self.dist_matrix[i][i] = 0\n",
    "            \n",
    "    def floyd_warshall(self):\n",
    "        self.create_dist_matrix()\n",
    "        self.distances = [[0 for _ in range(self.n_nodes)] for _ in range(self.n_nodes)]\n",
    "        for i in range(self.n_nodes):\n",
    "            for j in range(self.n_nodes):\n",
    "                self.distances[i][j] = self.dist_matrix[i][j]\n",
    "                \n",
    "        for i in range(self.n_nodes):\n",
    "            for j in range(self.n_nodes):\n",
    "                if j != i:\n",
    "                    for k in range(self.n_nodes):\n",
    "                        if (k != i) and (j != k):\n",
    "                            if self.distances[j][k] > (self.distances[j][i] + self.distances[i][k]):\n",
    "                                self.distances[j][k] = self.distances[j][i] + self.distances[i][k]"
   ]
  },
  {
   "cell_type": "code",
   "execution_count": 2,
   "metadata": {},
   "outputs": [
    {
     "name": "stdout",
     "output_type": "stream",
     "text": [
      "[[0, 3, 6, 5], [5, 0, 3, 2], [2, 5, 0, 7], [3, 6, 1, 0]]\n"
     ]
    }
   ],
   "source": [
    "graph = DirectedGraph()\n",
    "graph.add_node('1')\n",
    "graph.add_node('2')\n",
    "graph.add_node('4')\n",
    "graph.add_node('3')\n",
    "graph.add_connection('1', '2', 3)\n",
    "graph.add_connection('2', '1', 8)\n",
    "graph.add_connection('1', '3', 7)\n",
    "graph.add_connection('3', '1', 2)\n",
    "graph.add_connection('4', '1', 5)\n",
    "graph.add_connection('4', '3', 1)\n",
    "graph.add_connection('2', '4', 2)\n",
    "graph.floyd_warshall()\n",
    "print(graph.distances)"
   ]
  },
  {
   "cell_type": "code",
   "execution_count": null,
   "metadata": {},
   "outputs": [],
   "source": []
  }
 ],
 "metadata": {
  "kernelspec": {
   "display_name": "Python 3",
   "language": "python",
   "name": "python3"
  },
  "language_info": {
   "codemirror_mode": {
    "name": "ipython",
    "version": 3
   },
   "file_extension": ".py",
   "mimetype": "text/x-python",
   "name": "python",
   "nbconvert_exporter": "python",
   "pygments_lexer": "ipython3",
   "version": "3.7.3"
  }
 },
 "nbformat": 4,
 "nbformat_minor": 2
}
