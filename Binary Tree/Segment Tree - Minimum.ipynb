{
 "cells": [
  {
   "cell_type": "code",
   "execution_count": 1,
   "metadata": {},
   "outputs": [],
   "source": [
    "import math"
   ]
  },
  {
   "cell_type": "code",
   "execution_count": 2,
   "metadata": {},
   "outputs": [],
   "source": [
    "def construct_segment_tree(input_array, seg_array, start, end, pos):\n",
    "    if start == end:\n",
    "        seg_array[pos] = input_array[start]\n",
    "        return\n",
    "    mid = (start + end) // 2\n",
    "    construct_segment_tree(input_array, seg_array, start, mid, 2 * pos + 1)\n",
    "    construct_segment_tree(input_array, seg_array, mid + 1, end, 2 * pos + 2)\n",
    "    seg_tree[pos] = min(seg_tree[2 * pos +1], seg_tree[2 * pos + 2])"
   ]
  },
  {
   "cell_type": "code",
   "execution_count": 3,
   "metadata": {},
   "outputs": [],
   "source": [
    "def range_query(seg_array, q_start, q_end, a_start, a_end, pos):\n",
    "    if q_start > a_end or q_end < a_start:\n",
    "        return math.inf\n",
    "    elif a_start >= q_start and a_end <= q_end:\n",
    "        return seg_array[pos]\n",
    "    else:\n",
    "        mid = (a_start + a_end) // 2\n",
    "        l_min = range_query(seg_array, q_start, q_end, a_start, mid, 2 * pos + 1)\n",
    "        r_min = range_query(seg_array, q_start, q_end, mid + 1, a_end, 2 * pos + 2)\n",
    "        return min(l_min, r_min)"
   ]
  },
  {
   "cell_type": "code",
   "execution_count": 4,
   "metadata": {},
   "outputs": [],
   "source": [
    "def get_power_2(n):\n",
    "    power = 1\n",
    "    count = 0\n",
    "    while power < n:\n",
    "        power *= 2\n",
    "        count += 1\n",
    "    return power"
   ]
  },
  {
   "cell_type": "code",
   "execution_count": 5,
   "metadata": {},
   "outputs": [],
   "source": [
    "array = [8, 2, 4, 5, 3, 0, -1, 7, 1, 6]\n",
    "query = [2, 6]"
   ]
  },
  {
   "cell_type": "code",
   "execution_count": 6,
   "metadata": {},
   "outputs": [],
   "source": [
    "l = get_power_2(len(array))\n",
    "seg_tree = [math.inf for _ in range(2 * l - 1)]"
   ]
  },
  {
   "cell_type": "code",
   "execution_count": 7,
   "metadata": {},
   "outputs": [
    {
     "name": "stdout",
     "output_type": "stream",
     "text": [
      "[-1, 2, -1, 2, 3, -1, 1, 2, 4, 5, 3, -1, 7, 1, 6, 8, 2, inf, inf, inf, inf, inf, inf, 0, -1, inf, inf, inf, inf, inf, inf]\n"
     ]
    }
   ],
   "source": [
    "construct_segment_tree(array, seg_tree, 0, len(array)-1, 0)\n",
    "print(seg_tree)"
   ]
  },
  {
   "cell_type": "code",
   "execution_count": 8,
   "metadata": {},
   "outputs": [
    {
     "name": "stdout",
     "output_type": "stream",
     "text": [
      "-1\n"
     ]
    }
   ],
   "source": [
    "minm = range_query(seg_tree, query[0], query[1], 0, len(array)-1, 0)\n",
    "print(minm)"
   ]
  },
  {
   "cell_type": "code",
   "execution_count": null,
   "metadata": {},
   "outputs": [],
   "source": []
  }
 ],
 "metadata": {
  "kernelspec": {
   "display_name": "Python 3",
   "language": "python",
   "name": "python3"
  },
  "language_info": {
   "codemirror_mode": {
    "name": "ipython",
    "version": 3
   },
   "file_extension": ".py",
   "mimetype": "text/x-python",
   "name": "python",
   "nbconvert_exporter": "python",
   "pygments_lexer": "ipython3",
   "version": "3.7.4"
  }
 },
 "nbformat": 4,
 "nbformat_minor": 2
}
