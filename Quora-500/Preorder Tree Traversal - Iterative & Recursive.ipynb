{
 "cells": [
  {
   "cell_type": "code",
   "execution_count": 1,
   "metadata": {
    "collapsed": true
   },
   "outputs": [],
   "source": [
    "preorder_list = []"
   ]
  },
  {
   "cell_type": "code",
   "execution_count": 2,
   "metadata": {
    "collapsed": true
   },
   "outputs": [],
   "source": [
    "def preorder_recursive(array, idx, n):\n",
    "    if idx >= n:\n",
    "        return\n",
    "    else:\n",
    "        preorder_list.append(array[idx])\n",
    "        preorder_recursive(array, 2 * idx + 1, n)\n",
    "        preorder_recursive(array, 2 * idx + 2, n)"
   ]
  },
  {
   "cell_type": "code",
   "execution_count": 3,
   "metadata": {
    "collapsed": true
   },
   "outputs": [],
   "source": [
    "array = [6, 3, 5, 9, 7, 1, 8, 0, 2, 4]\n",
    "preorder_recursive(array, 0, len(array))"
   ]
  },
  {
   "cell_type": "code",
   "execution_count": 4,
   "metadata": {},
   "outputs": [
    {
     "name": "stdout",
     "output_type": "stream",
     "text": [
      "[6, 3, 9, 0, 2, 7, 4, 5, 1, 8]\n"
     ]
    }
   ],
   "source": [
    "print(preorder_list)"
   ]
  },
  {
   "cell_type": "code",
   "execution_count": null,
   "metadata": {
    "collapsed": true
   },
   "outputs": [],
   "source": []
  },
  {
   "cell_type": "code",
   "execution_count": 5,
   "metadata": {
    "collapsed": true
   },
   "outputs": [],
   "source": [
    "preorder_list = []"
   ]
  },
  {
   "cell_type": "code",
   "execution_count": 6,
   "metadata": {
    "collapsed": true
   },
   "outputs": [],
   "source": [
    "def preorder_iterative(array, idx, n):\n",
    "    stack = [0 for _ in range(n)]\n",
    "    top = -1\n",
    "    while len(preorder_list) < n:\n",
    "        if idx < n:\n",
    "            preorder_list.append(array[idx])\n",
    "            top += 1\n",
    "            stack[top] = [array[idx], idx]\n",
    "            idx = 2 * idx + 1\n",
    "        else:\n",
    "            idx = stack[top][1]\n",
    "            top -= 1\n",
    "            idx = 2 * idx + 2"
   ]
  },
  {
   "cell_type": "code",
   "execution_count": 7,
   "metadata": {
    "collapsed": true
   },
   "outputs": [],
   "source": [
    "array = [6, 3, 5, 9, 7, 1, 8, 0, 2, 4]\n",
    "preorder_iterative(array, 0, len(array))"
   ]
  },
  {
   "cell_type": "code",
   "execution_count": 8,
   "metadata": {},
   "outputs": [
    {
     "name": "stdout",
     "output_type": "stream",
     "text": [
      "[6, 3, 9, 0, 2, 7, 4, 5, 1, 8]\n"
     ]
    }
   ],
   "source": [
    "print(preorder_list)"
   ]
  }
 ],
 "metadata": {
  "kernelspec": {
   "display_name": "Python 3",
   "language": "python",
   "name": "python3"
  },
  "language_info": {
   "codemirror_mode": {
    "name": "ipython",
    "version": 3
   },
   "file_extension": ".py",
   "mimetype": "text/x-python",
   "name": "python",
   "nbconvert_exporter": "python",
   "pygments_lexer": "ipython3",
   "version": "3.6.3"
  }
 },
 "nbformat": 4,
 "nbformat_minor": 2
}
