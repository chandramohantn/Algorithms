{
 "cells": [
  {
   "cell_type": "raw",
   "metadata": {},
   "source": [
    "Given an array of integers, find all distinct combinations of given length."
   ]
  },
  {
   "cell_type": "code",
   "execution_count": 17,
   "metadata": {
    "collapsed": true
   },
   "outputs": [],
   "source": [
    "def permute(array, output, start, end, length):\n",
    "    if length == 0:\n",
    "        combinations.add(output[0: -1])\n",
    "        return\n",
    "    else:\n",
    "        while start < (end - 1) and array[start] == array[start+1] and start > 0:\n",
    "            start += 1\n",
    "        for i in range(start, end):\n",
    "            permute(array, output + str(array[i]) + ',', i + 1, end, length - 1)"
   ]
  },
  {
   "cell_type": "code",
   "execution_count": 20,
   "metadata": {
    "collapsed": true
   },
   "outputs": [],
   "source": [
    "given_array = [1, 2, 3, 4, 2, 5]\n",
    "#given_array = [1, 2, 3]\n",
    "#given_array = [1, 2, 1]\n",
    "combinations = set()"
   ]
  },
  {
   "cell_type": "code",
   "execution_count": 21,
   "metadata": {},
   "outputs": [
    {
     "name": "stdout",
     "output_type": "stream",
     "text": [
      "{'1,5', '2,3', '2,5', '1,4', '3,4', '1,2', '2,2', '2,4', '3,5', '4,5', '1,3'}\n"
     ]
    }
   ],
   "source": [
    "given_array.sort()\n",
    "permute(given_array, \"\", 0, len(given_array), 2)\n",
    "print(combinations)"
   ]
  },
  {
   "cell_type": "code",
   "execution_count": null,
   "metadata": {
    "collapsed": true
   },
   "outputs": [],
   "source": []
  }
 ],
 "metadata": {
  "kernelspec": {
   "display_name": "Python 3",
   "language": "python",
   "name": "python3"
  },
  "language_info": {
   "codemirror_mode": {
    "name": "ipython",
    "version": 3
   },
   "file_extension": ".py",
   "mimetype": "text/x-python",
   "name": "python",
   "nbconvert_exporter": "python",
   "pygments_lexer": "ipython3",
   "version": "3.6.3"
  }
 },
 "nbformat": 4,
 "nbformat_minor": 2
}
