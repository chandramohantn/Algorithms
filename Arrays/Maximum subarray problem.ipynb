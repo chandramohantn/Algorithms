{
 "cells": [
  {
   "cell_type": "raw",
   "metadata": {},
   "source": [
    "Given an array of integers, find contiguous subarray within it which has the largest sum."
   ]
  },
  {
   "cell_type": "code",
   "execution_count": 1,
   "metadata": {
    "collapsed": true
   },
   "outputs": [],
   "source": [
    "given_array = [-2, 1, -3, 4, -1, 2, 1, -5, 4]\n",
    "#given_array = [-2, -1, -3, -4, -1, -2, -1, -5, -4]\n",
    "max_cur = given_array[0]\n",
    "max_prv = given_array[0]\n",
    "start_index = 0\n",
    "end_index = 0"
   ]
  },
  {
   "cell_type": "code",
   "execution_count": 2,
   "metadata": {},
   "outputs": [
    {
     "name": "stdout",
     "output_type": "stream",
     "text": [
      "Contiguos subarray with maximum sum is:  [4, -1, 2, 1]\n",
      "Maximum sum is:  6\n"
     ]
    }
   ],
   "source": [
    "maxm = max(given_array)\n",
    "if maxm < 0:\n",
    "    print('Contiguos subarray with maximum sum is: ', [maxm])\n",
    "    print('Maximum sum is: ', maxm)\n",
    "else:\n",
    "    for i in range(1, len(given_array)):\n",
    "        max_prv += given_array[i]\n",
    "        if max_prv < given_array[i]:\n",
    "            max_prv = given_array[i]\n",
    "            start_index = i\n",
    "        if max_prv >= max_cur:\n",
    "            max_cur = max_prv\n",
    "            end_index = i\n",
    "    print('Contiguos subarray with maximum sum is: ', given_array[start_index: end_index+1])\n",
    "    print('Maximum sum is: ', max_cur)"
   ]
  },
  {
   "cell_type": "code",
   "execution_count": null,
   "metadata": {
    "collapsed": true
   },
   "outputs": [],
   "source": []
  }
 ],
 "metadata": {
  "kernelspec": {
   "display_name": "Python 3",
   "language": "python",
   "name": "python3"
  },
  "language_info": {
   "codemirror_mode": {
    "name": "ipython",
    "version": 3
   },
   "file_extension": ".py",
   "mimetype": "text/x-python",
   "name": "python",
   "nbconvert_exporter": "python",
   "pygments_lexer": "ipython3",
   "version": "3.6.3"
  }
 },
 "nbformat": 4,
 "nbformat_minor": 2
}
