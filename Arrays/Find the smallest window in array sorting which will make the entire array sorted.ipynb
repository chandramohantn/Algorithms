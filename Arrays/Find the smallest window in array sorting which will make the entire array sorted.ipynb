{
 "cells": [
  {
   "cell_type": "raw",
   "metadata": {},
   "source": [
    "Given an array, find the smallest window in array sorting which will make the entire array sorted in increasing order."
   ]
  },
  {
   "cell_type": "code",
   "execution_count": 1,
   "metadata": {
    "collapsed": true
   },
   "outputs": [],
   "source": [
    "#given_array = [1, 3, 2, 7, 5, 6, 4, 8]\n",
    "given_array = [0, 1, 2, 9, 7, 5, 11, 6, 4, 8, 3, 14, 15]\n",
    "m = len(given_array)"
   ]
  },
  {
   "cell_type": "code",
   "execution_count": 2,
   "metadata": {
    "collapsed": true
   },
   "outputs": [],
   "source": [
    "maxm = -1\n",
    "minm = 100000\n",
    "max_index = 0\n",
    "min_index = m-1"
   ]
  },
  {
   "cell_type": "code",
   "execution_count": 3,
   "metadata": {
    "collapsed": true
   },
   "outputs": [],
   "source": [
    "for i in range(m):\n",
    "    if given_array[i] > maxm:\n",
    "        if i != max_index+1:\n",
    "            end_index = i-1\n",
    "        maxm = given_array[i]\n",
    "        max_index = i\n",
    "for i in range(m-1, -1, -1):\n",
    "    if given_array[i] < minm:\n",
    "        if i != min_index-1:\n",
    "            start_index = i+1\n",
    "        minm = given_array[i]\n",
    "        min_index = i        "
   ]
  },
  {
   "cell_type": "code",
   "execution_count": 4,
   "metadata": {},
   "outputs": [
    {
     "name": "stdout",
     "output_type": "stream",
     "text": [
      "Smallest window is  [9, 7, 5, 11, 6, 4, 8, 3]\n"
     ]
    }
   ],
   "source": [
    "print('Smallest window is ', given_array[start_index: end_index+1])"
   ]
  },
  {
   "cell_type": "code",
   "execution_count": null,
   "metadata": {
    "collapsed": true
   },
   "outputs": [],
   "source": []
  }
 ],
 "metadata": {
  "kernelspec": {
   "display_name": "Python 3",
   "language": "python",
   "name": "python3"
  },
  "language_info": {
   "codemirror_mode": {
    "name": "ipython",
    "version": 3
   },
   "file_extension": ".py",
   "mimetype": "text/x-python",
   "name": "python",
   "nbconvert_exporter": "python",
   "pygments_lexer": "ipython3",
   "version": "3.6.3"
  },
  "toc": {
   "base_numbering": 1,
   "nav_menu": {},
   "number_sections": false,
   "sideBar": false,
   "skip_h1_title": false,
   "title_cell": "Table of Contents",
   "title_sidebar": "Contents",
   "toc_cell": false,
   "toc_position": {},
   "toc_section_display": false,
   "toc_window_display": false
  }
 },
 "nbformat": 4,
 "nbformat_minor": 2
}
