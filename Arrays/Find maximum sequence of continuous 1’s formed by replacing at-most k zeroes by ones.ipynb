{
 "cells": [
  {
   "cell_type": "raw",
   "metadata": {},
   "source": [
    "Given an Boolean array, find the maximum sequence of continuous 1's that can be formed by replacing at-most k zeroes by ones."
   ]
  },
  {
   "cell_type": "code",
   "execution_count": 1,
   "metadata": {
    "collapsed": true
   },
   "outputs": [],
   "source": [
    "given_array = [1, 1, 0, 1, 1, 0, 1, 1, 1, 1, 0, 0]\n",
    "k = 3\n",
    "m = len(given_array)"
   ]
  },
  {
   "cell_type": "code",
   "execution_count": 2,
   "metadata": {},
   "outputs": [],
   "source": [
    "max_count = 0\n",
    "start_index = -1\n",
    "count_ones = 0\n",
    "count_zero = 0\n",
    "max_start = -1\n",
    "max_end = m"
   ]
  },
  {
   "cell_type": "code",
   "execution_count": 3,
   "metadata": {},
   "outputs": [],
   "source": [
    "for i in range(m):\n",
    "    if given_array[i] == 0:\n",
    "        count_zero += 1\n",
    "    else:\n",
    "        count_ones += 1\n",
    "    if count_zero > k:\n",
    "        if count_ones > max_count:\n",
    "            max_count = count_ones\n",
    "            max_start = start_index + 1\n",
    "            max_end = i - 1\n",
    "        till_count = 0\n",
    "        for j in range(start_index+1, i+1):\n",
    "            if given_array[j] == 0:\n",
    "                start_index = j\n",
    "                break\n",
    "            else:\n",
    "                till_count += 1\n",
    "        count_ones -= till_count\n",
    "        count_zero -= 1"
   ]
  },
  {
   "cell_type": "code",
   "execution_count": 4,
   "metadata": {},
   "outputs": [
    {
     "name": "stdout",
     "output_type": "stream",
     "text": [
      "The length of longest sequence is: 11, indexed from 0 to 10\n"
     ]
    }
   ],
   "source": [
    "print('The length of longest sequence is: %d, indexed from %d to %d' % (max_count+k, max_start, max_end))"
   ]
  },
  {
   "cell_type": "code",
   "execution_count": null,
   "metadata": {
    "collapsed": true
   },
   "outputs": [],
   "source": []
  }
 ],
 "metadata": {
  "kernelspec": {
   "display_name": "Python 3",
   "language": "python",
   "name": "python3"
  },
  "language_info": {
   "codemirror_mode": {
    "name": "ipython",
    "version": 3
   },
   "file_extension": ".py",
   "mimetype": "text/x-python",
   "name": "python",
   "nbconvert_exporter": "python",
   "pygments_lexer": "ipython3",
   "version": "3.6.3"
  }
 },
 "nbformat": 4,
 "nbformat_minor": 2
}
