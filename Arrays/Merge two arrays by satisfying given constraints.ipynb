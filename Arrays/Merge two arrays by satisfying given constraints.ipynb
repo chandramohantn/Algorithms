{
 "cells": [
  {
   "cell_type": "raw",
   "metadata": {},
   "source": [
    "Given two sorted arrays X and Y of size m and n each where m <= n and X[] has exactly n vacant cells, merge elements of Y in their correct position in array X i.e. merge (X, Y) by keeping the sorted order. The vacant cells in X is represented by 0."
   ]
  },
  {
   "cell_type": "code",
   "execution_count": 39,
   "metadata": {
    "collapsed": true
   },
   "outputs": [],
   "source": [
    "#X = [0, 2, 0, 3, 0, 5, 6, 0, 0]\n",
    "#Y = [1, 8, 9, 10, 15]\n",
    "X = [0, 3, 0, 4, 0, 5, 6, 0, 0]\n",
    "Y = [1, 2, 9, 10, 15]\n",
    "m = len(X)\n",
    "n = len(Y)"
   ]
  },
  {
   "cell_type": "code",
   "execution_count": 40,
   "metadata": {},
   "outputs": [],
   "source": [
    "j = 0\n",
    "for i in range(m):\n",
    "    if X[i] != 0:\n",
    "        X[j] = X[i]\n",
    "        j += 1\n",
    "index_mid = j\n",
    "\n",
    "m = m - 1\n",
    "while (n > 0) and (index_mid > 0):\n",
    "    if X[index_mid-1] < Y[n-1]:\n",
    "        X[m] = Y[n-1]\n",
    "        n = n - 1\n",
    "    else:\n",
    "        X[m] = X[index_mid-1]\n",
    "        index_mid = index_mid - 1\n",
    "    m = m - 1\n",
    "\n",
    "if n > 0:\n",
    "    while n > 0:\n",
    "        X[m] = Y[n-1]\n",
    "        m = m - 1\n",
    "        n = n - 1"
   ]
  },
  {
   "cell_type": "code",
   "execution_count": 41,
   "metadata": {},
   "outputs": [
    {
     "name": "stdout",
     "output_type": "stream",
     "text": [
      "[1, 2, 3, 4, 5, 6, 9, 10, 15]\n"
     ]
    }
   ],
   "source": [
    "print(X)"
   ]
  },
  {
   "cell_type": "code",
   "execution_count": null,
   "metadata": {
    "collapsed": true
   },
   "outputs": [],
   "source": []
  }
 ],
 "metadata": {
  "kernelspec": {
   "display_name": "Python 3",
   "language": "python",
   "name": "python3"
  },
  "language_info": {
   "codemirror_mode": {
    "name": "ipython",
    "version": 3
   },
   "file_extension": ".py",
   "mimetype": "text/x-python",
   "name": "python",
   "nbconvert_exporter": "python",
   "pygments_lexer": "ipython3",
   "version": "3.6.3"
  }
 },
 "nbformat": 4,
 "nbformat_minor": 2
}
