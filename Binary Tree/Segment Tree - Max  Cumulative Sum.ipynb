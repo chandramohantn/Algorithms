{
 "cells": [
  {
   "cell_type": "code",
   "execution_count": 1,
   "metadata": {},
   "outputs": [],
   "source": [
    "import math"
   ]
  },
  {
   "cell_type": "code",
   "execution_count": 2,
   "metadata": {},
   "outputs": [],
   "source": [
    "def construct_segment_tree(array, seg_array, start, end, pos):\n",
    "    if start == end:\n",
    "        seg_array[pos] = [array[start], array[start]]\n",
    "        return\n",
    "    mid = (start + end) // 2\n",
    "    construct_segment_tree(array, seg_array, start, mid, 2 * pos + 1)\n",
    "    construct_segment_tree(array, seg_array, mid + 1, end, 2 * pos + 2)\n",
    "    l_max = seg_array[2 * pos + 1]\n",
    "    r_max = seg_array[2 * pos + 2]\n",
    "    seg_array[pos] = [max(l_max[0] + r_max[0], l_max[1] + r_max[0]), max(l_max[0] + r_max[1], l_max[1] + r_max[1])]"
   ]
  },
  {
   "cell_type": "code",
   "execution_count": 3,
   "metadata": {},
   "outputs": [],
   "source": [
    "def range_query(seg_array, q_start, q_end, a_start, a_end, pos):\n",
    "    if a_start > q_end or a_end < q_start:\n",
    "        return [-math.inf, -math.inf]\n",
    "    elif q_start <= a_start and a_end <= q_end:\n",
    "        return seg_array[pos]\n",
    "    else:\n",
    "        mid = (a_start + a_end) // 2\n",
    "        l_max = range_query(seg_array, q_start, q_end, a_start, mid, 2 * pos + 1)\n",
    "        r_max = range_query(seg_array, q_start, q_end, mid + 1, a_end, 2 * pos + 2)\n",
    "        cur_max = max(l_max[0]+r_max[0], l_max[1]+r_max[0])\n",
    "        prv_max = max(l_max[0]+r_max[1], l_max[1]+r_max[1])\n",
    "        return [cur_max, prv_max]"
   ]
  },
  {
   "cell_type": "code",
   "execution_count": 4,
   "metadata": {},
   "outputs": [],
   "source": [
    "def get_power_2(n):\n",
    "    power = 1\n",
    "    count = 0\n",
    "    while power < n:\n",
    "        power *= 2\n",
    "        count += 1\n",
    "    return power"
   ]
  },
  {
   "cell_type": "code",
   "execution_count": 5,
   "metadata": {},
   "outputs": [],
   "source": [
    "array = [8, 2, 4, 5, 3, 0, -1, 7, 1, 6]\n",
    "query = [2, 6]"
   ]
  },
  {
   "cell_type": "code",
   "execution_count": 6,
   "metadata": {},
   "outputs": [],
   "source": [
    "l = get_power_2(len(array))\n",
    "seg_tree = [[0, 0] for _ in range(2 * l - 1)]"
   ]
  },
  {
   "cell_type": "code",
   "execution_count": 7,
   "metadata": {},
   "outputs": [
    {
     "name": "stdout",
     "output_type": "stream",
     "text": [
      "[[35, 35], [22, 22], [13, 13], [14, 14], [8, 8], [6, 6], [7, 7], [10, 10], [4, 4], [5, 5], [3, 3], [-1, -1], [7, 7], [1, 1], [6, 6], [8, 8], [2, 2], [0, 0], [0, 0], [0, 0], [0, 0], [0, 0], [0, 0], [0, 0], [-1, -1], [0, 0], [0, 0], [0, 0], [0, 0], [0, 0], [0, 0]]\n"
     ]
    }
   ],
   "source": [
    "construct_segment_tree(array, seg_tree, 0, len(array) - 1, 0)\n",
    "print(seg_tree)"
   ]
  },
  {
   "cell_type": "code",
   "execution_count": 8,
   "metadata": {},
   "outputs": [
    {
     "name": "stdout",
     "output_type": "stream",
     "text": [
      "[-inf, -inf]\n"
     ]
    }
   ],
   "source": [
    "maxm = range_query(seg_tree, query[0]-1, query[1]-1, 0, len(array) - 1, 0)\n",
    "print(maxm)"
   ]
  }
 ],
 "metadata": {
  "kernelspec": {
   "display_name": "Python 3",
   "language": "python",
   "name": "python3"
  },
  "language_info": {
   "codemirror_mode": {
    "name": "ipython",
    "version": 3
   },
   "file_extension": ".py",
   "mimetype": "text/x-python",
   "name": "python",
   "nbconvert_exporter": "python",
   "pygments_lexer": "ipython3",
   "version": "3.7.4"
  }
 },
 "nbformat": 4,
 "nbformat_minor": 2
}
