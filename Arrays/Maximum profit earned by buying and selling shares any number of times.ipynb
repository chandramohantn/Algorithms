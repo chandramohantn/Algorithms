{
 "cells": [
  {
   "cell_type": "raw",
   "metadata": {},
   "source": [
    "Given a list containing future prediction of share prices, find maximum profit that can be earned by buying and selling shares any number of times with constraint that a new transaction can only start after previous transaction is complete. i.e. we can only hold at-most one share at a time."
   ]
  },
  {
   "cell_type": "code",
   "execution_count": 1,
   "metadata": {},
   "outputs": [],
   "source": [
    "#stock_prices = [1, 5, 2, 3, 7, 6, 4, 5]\n",
    "stock_prices = [10, 8, 6, 5, 4, 2]\n",
    "l = len(stock_prices)\n",
    "max_profit = 0"
   ]
  },
  {
   "cell_type": "code",
   "execution_count": 2,
   "metadata": {},
   "outputs": [],
   "source": [
    "start = stock_prices[0]\n",
    "for i in range(1, l):\n",
    "    if stock_prices[i-1] > stock_prices[i]:\n",
    "        max_profit += (stock_prices[i-1] - start)\n",
    "        start = stock_prices[i]\n",
    "if start < stock_prices[-1]:\n",
    "    max_profit += (stock_prices[-1] - start)"
   ]
  },
  {
   "cell_type": "code",
   "execution_count": 3,
   "metadata": {},
   "outputs": [
    {
     "name": "stdout",
     "output_type": "stream",
     "text": [
      "Maximum profit that can be obtained:  0\n"
     ]
    }
   ],
   "source": [
    "print('Maximum profit that can be obtained: ', max_profit)"
   ]
  },
  {
   "cell_type": "code",
   "execution_count": null,
   "metadata": {},
   "outputs": [],
   "source": []
  }
 ],
 "metadata": {
  "kernelspec": {
   "display_name": "Python 3",
   "language": "python",
   "name": "python3"
  },
  "language_info": {
   "codemirror_mode": {
    "name": "ipython",
    "version": 3
   },
   "file_extension": ".py",
   "mimetype": "text/x-python",
   "name": "python",
   "nbconvert_exporter": "python",
   "pygments_lexer": "ipython3",
   "version": "3.7.3"
  }
 },
 "nbformat": 4,
 "nbformat_minor": 2
}
