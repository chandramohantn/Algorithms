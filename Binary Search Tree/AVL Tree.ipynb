{
 "cells": [
  {
   "cell_type": "code",
   "execution_count": null,
   "metadata": {},
   "outputs": [],
   "source": [
    "class Node:\n",
    "    self.value = 0\n",
    "    self.left = None\n",
    "    self.right = None\n",
    "    self.bf = 0\n",
    "    self.max_height_subtree = 0\n",
    "    \n",
    "    def __init__(self, value, left, right):\n",
    "        self.value = value\n",
    "        self.left = None\n",
    "        self.right = None\n",
    "\n",
    "class AVLTree:\n",
    "    self.root = None\n",
    "    \n",
    "    def __init__(self, root):\n",
    "        self.root = root\n",
    "        \n",
    "    def insert(self, root, node):\n",
    "        if root.value < node.value:\n",
    "            if root.right != None:\n",
    "                self.insert(root.right, node)\n",
    "            else:\n",
    "                root.right = node\n",
    "        else:\n",
    "            if root.left != None:\n",
    "                self.insert(root.left, node)\n",
    "            else:\n",
    "                root.left = node\n",
    "                \n",
    "        self.compute_balance_factor(self.root)\n",
    "        \n",
    "                \n",
    "    def compute_balance_factor(self, root):\n",
    "        if root == None:\n",
    "            return 0\n",
    "        else:\n",
    "            if root.right != None:\n",
    "                return 1 + compute_balance_factor(root.right)\n",
    "            return "
   ]
  }
 ],
 "metadata": {
  "kernelspec": {
   "display_name": "Python 3",
   "language": "python",
   "name": "python3"
  },
  "language_info": {
   "codemirror_mode": {
    "name": "ipython",
    "version": 3
   },
   "file_extension": ".py",
   "mimetype": "text/x-python",
   "name": "python",
   "nbconvert_exporter": "python",
   "pygments_lexer": "ipython3",
   "version": "3.7.3"
  }
 },
 "nbformat": 4,
 "nbformat_minor": 2
}
