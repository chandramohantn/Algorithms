{
 "cells": [
  {
   "cell_type": "code",
   "execution_count": 1,
   "metadata": {},
   "outputs": [],
   "source": [
    "import math"
   ]
  },
  {
   "cell_type": "code",
   "execution_count": 2,
   "metadata": {},
   "outputs": [],
   "source": [
    "def min_heapify(dist, n, i):\n",
    "    l = 2 * i + 1\n",
    "    r = 2 * i + 2\n",
    "    minm = i\n",
    "    if l < n and dist[l][0] < dist[minm][0]:\n",
    "        minm = l\n",
    "    if r < n and dist[r][0] < dist[minm][0]:\n",
    "        minm = r\n",
    "    if minm != i:\n",
    "        tmp = dist[i]\n",
    "        dist[i] = dist[minm]\n",
    "        dist[minm] = tmp\n",
    "        min_heapify(dist, n, minm)"
   ]
  },
  {
   "cell_type": "code",
   "execution_count": 3,
   "metadata": {},
   "outputs": [],
   "source": [
    "def build_min_heap(dist, n):\n",
    "    for i in range(n//2-1, -1, -1):\n",
    "        min_heapify(dist, n, i)"
   ]
  },
  {
   "cell_type": "code",
   "execution_count": 4,
   "metadata": {},
   "outputs": [],
   "source": [
    "def get_dist_map(dist):\n",
    "    dist_map = {}\n",
    "    for d in dist:\n",
    "        if d[1][0] not in dist_map:\n",
    "            dist_map[d[1][0]] = {}\n",
    "        if d[1][1] not in dist_map[d[1][0]]:\n",
    "            dist_map[d[1][0]][d[1][1]] = d[0]\n",
    "        if d[1][1] not in dist_map:\n",
    "            dist_map[d[1][1]] = {}\n",
    "        if d[1][0] not in dist_map[d[1][1]]:\n",
    "            dist_map[d[1][1]][d[1][0]] = d[0]\n",
    "    return dist_map"
   ]
  },
  {
   "cell_type": "code",
   "execution_count": 5,
   "metadata": {},
   "outputs": [
    {
     "name": "stdout",
     "output_type": "stream",
     "text": [
      "Shortest Distance:  [0, 2, 3, 8, 6, 9]\n"
     ]
    }
   ],
   "source": [
    "dist_array = [[2, (0, 1)], [4, (0, 2)], [7, (1, 3)], [3, (2, 4)], [1, (1, 2)], [2, (4, 3)], [1, (3, 5)], [5, (4, 5)]]\n",
    "nodes = []\n",
    "for d in dist_array:\n",
    "    nodes.append(d[1][0])\n",
    "    nodes.append(d[1][1])\n",
    "nodes = list(set(nodes))\n",
    "V = len(nodes)\n",
    "dist_map = get_dist_map(dist_array)\n",
    "dist_nodes = [math.inf for _ in range(V)]\n",
    "visited = [0 for _ in range(V)]\n",
    "\n",
    "cur_node = 0\n",
    "visited[cur_node] = 1\n",
    "dist_nodes[cur_node] = 0\n",
    "edges = []\n",
    "for i in range(V):\n",
    "    neighbors = dist_map[cur_node]\n",
    "    for neighbor in neighbors:\n",
    "        if visited[neighbor] == 0:\n",
    "            edges.append([neighbors[neighbor], (cur_node, neighbor)])\n",
    "    build_min_heap(edges, len(edges))\n",
    "    min_edge = edges[0]\n",
    "    edges = edges[1:]\n",
    "    if dist_nodes[min_edge[1][1]] > (dist_nodes[cur_node] + min_edge[0]):\n",
    "        dist_nodes[min_edge[1][1]] = dist_nodes[cur_node] + min_edge[0]\n",
    "        visited[min_edge[1][1]] = 1\n",
    "    cur_node = min_edge[1][1]\n",
    "print(\"Shortest Distance: \", dist_nodes)"
   ]
  }
 ],
 "metadata": {
  "kernelspec": {
   "display_name": "Python 3",
   "language": "python",
   "name": "python3"
  },
  "language_info": {
   "codemirror_mode": {
    "name": "ipython",
    "version": 3
   },
   "file_extension": ".py",
   "mimetype": "text/x-python",
   "name": "python",
   "nbconvert_exporter": "python",
   "pygments_lexer": "ipython3",
   "version": "3.7.4"
  }
 },
 "nbformat": 4,
 "nbformat_minor": 2
}
