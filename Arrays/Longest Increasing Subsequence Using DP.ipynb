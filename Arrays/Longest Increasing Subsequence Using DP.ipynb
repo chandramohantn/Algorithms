{
 "cells": [
  {
   "cell_type": "raw",
   "metadata": {},
   "source": [
    "Input: 0, 8, 4, 12, 2, 10, 6, 14, 1, 9, 5, 13, 3, 11, 7, 15\n",
    "Output: 0, 4, 6, 9, 11, 15"
   ]
  },
  {
   "cell_type": "code",
   "execution_count": 1,
   "metadata": {},
   "outputs": [],
   "source": [
    "import numpy as np"
   ]
  },
  {
   "cell_type": "code",
   "execution_count": 2,
   "metadata": {},
   "outputs": [],
   "source": [
    "def LIS(array, l_seq, s_seq, n):\n",
    "    for i in range(1, n):\n",
    "        for j in range(i):\n",
    "            if array[j] < array[i]:\n",
    "                if l_seq[i] < l_seq[j] + 1:\n",
    "                    l_seq[i] = l_seq[j] + 1\n",
    "                    s_seq[i] = s_seq[j] + ' ' + str(array[i])"
   ]
  },
  {
   "cell_type": "code",
   "execution_count": 3,
   "metadata": {},
   "outputs": [],
   "source": [
    "array = [0, 8, 4, 12, 2, 10, 6, 14, 1, 9, 5, 13, 3, 11, 7, 15]\n",
    "l = len(array)\n",
    "l_seq = [1 for _ in range(l)]\n",
    "s_seq = [str(i) for i in array]\n",
    "LIS(array, l_seq, s_seq, l)"
   ]
  },
  {
   "cell_type": "code",
   "execution_count": 4,
   "metadata": {},
   "outputs": [
    {
     "name": "stdout",
     "output_type": "stream",
     "text": [
      "Length of longest increasing subsequence: 6\n",
      "Longest increasing subsequence:  0 4 6 9 13 15\n"
     ]
    }
   ],
   "source": [
    "print('Length of longest increasing subsequence: ' + str(max(l_seq)))\n",
    "print('Longest increasing subsequence: ', s_seq[np.argmax(l_seq)])"
   ]
  }
 ],
 "metadata": {
  "kernelspec": {
   "display_name": "Python 3",
   "language": "python",
   "name": "python3"
  },
  "language_info": {
   "codemirror_mode": {
    "name": "ipython",
    "version": 3
   },
   "file_extension": ".py",
   "mimetype": "text/x-python",
   "name": "python",
   "nbconvert_exporter": "python",
   "pygments_lexer": "ipython3",
   "version": "3.7.4"
  }
 },
 "nbformat": 4,
 "nbformat_minor": 2
}
