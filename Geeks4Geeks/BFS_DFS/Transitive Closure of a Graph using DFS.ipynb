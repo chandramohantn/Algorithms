{
 "cells": [
  {
   "cell_type": "code",
   "execution_count": 1,
   "metadata": {},
   "outputs": [],
   "source": [
    "def dfs(start, end, visited):\n",
    "    if end not in adj_list:\n",
    "        return\n",
    "    else:\n",
    "        adj_vertices = adj_list[end]\n",
    "        for adj_vertex in adj_vertices:\n",
    "            if visited[adj_vertex] == 0:\n",
    "                visited[adj_vertex] = 1\n",
    "                transitive_closure[start][adj_vertex] = 1\n",
    "                dfs(start, adj_vertex, visited)"
   ]
  },
  {
   "cell_type": "code",
   "execution_count": 2,
   "metadata": {},
   "outputs": [],
   "source": [
    "def find_trans_clos():\n",
    "    for vertex in range(n_vertices):\n",
    "        transitive_closure[vertex][vertex] = 1\n",
    "        visited = [0 for _ in range(n_vertices)]\n",
    "        visited[vertex] = 1\n",
    "        dfs(vertex, vertex, visited)"
   ]
  },
  {
   "cell_type": "code",
   "execution_count": 3,
   "metadata": {},
   "outputs": [],
   "source": [
    "n_vertices = 7\n",
    "edges = [[0, 1], [0, 2], [1, 3], [4, 1], [6, 4], [5, 6], [5, 2], [6, 0]]\n",
    "adj_list = {}\n",
    "for edge in edges:\n",
    "    if edge[0] not in adj_list:\n",
    "        adj_list[edge[0]] = [edge[1]]\n",
    "    else:\n",
    "        adj_list[edge[0]].append(edge[1])\n",
    "        \n",
    "transitive_closure = [[0 for _ in range(n_vertices)] for _ in range(n_vertices)]\n",
    "find_trans_clos()"
   ]
  },
  {
   "cell_type": "code",
   "execution_count": 4,
   "metadata": {},
   "outputs": [
    {
     "name": "stdout",
     "output_type": "stream",
     "text": [
      "Transitive Closure of graph\n",
      "[1, 1, 1, 1, 0, 0, 0]\n",
      "[0, 1, 0, 1, 0, 0, 0]\n",
      "[0, 0, 1, 0, 0, 0, 0]\n",
      "[0, 0, 0, 1, 0, 0, 0]\n",
      "[0, 1, 0, 1, 1, 0, 0]\n",
      "[1, 1, 1, 1, 1, 1, 1]\n",
      "[1, 1, 1, 1, 1, 0, 1]\n"
     ]
    }
   ],
   "source": [
    "print('Transitive Closure of graph')\n",
    "for i in transitive_closure:\n",
    "    print(i)"
   ]
  }
 ],
 "metadata": {
  "kernelspec": {
   "display_name": "Python 3",
   "language": "python",
   "name": "python3"
  },
  "language_info": {
   "codemirror_mode": {
    "name": "ipython",
    "version": 3
   },
   "file_extension": ".py",
   "mimetype": "text/x-python",
   "name": "python",
   "nbconvert_exporter": "python",
   "pygments_lexer": "ipython3",
   "version": "3.7.4"
  }
 },
 "nbformat": 4,
 "nbformat_minor": 2
}
