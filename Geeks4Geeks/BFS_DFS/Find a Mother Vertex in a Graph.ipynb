{
 "cells": [
  {
   "cell_type": "code",
   "execution_count": 1,
   "metadata": {},
   "outputs": [],
   "source": [
    "def dfs(v, visited):\n",
    "    if v not in adj_list:\n",
    "        return\n",
    "    else:\n",
    "        adj_vertices = adj_list[v]\n",
    "        for adj_vertex in adj_vertices:\n",
    "            if visited[adj_vertex] == 0:\n",
    "                visited[adj_vertex] = 1\n",
    "                dfs(adj_vertex, visited)"
   ]
  },
  {
   "cell_type": "code",
   "execution_count": 2,
   "metadata": {},
   "outputs": [],
   "source": [
    "def find_mother():\n",
    "    visited = [0 for _ in range(n_vertices)]\n",
    "    \n",
    "    cur_vertex = 0\n",
    "    for vertex in adj_list:\n",
    "        if visited[vertex] == 0:\n",
    "            cur_vertex = vertex\n",
    "            visited[vertex] = 1\n",
    "            dfs(vertex, visited)\n",
    "            \n",
    "    return cur_vertex"
   ]
  },
  {
   "cell_type": "code",
   "execution_count": 3,
   "metadata": {},
   "outputs": [],
   "source": [
    "n_vertices = 7\n",
    "edges = [[0, 1], [0, 2], [1, 3], [4, 1], [6, 4], [5, 6], [5, 2], [6, 0]]\n",
    "adj_list = {}\n",
    "for edge in edges:\n",
    "    if edge[0] not in adj_list:\n",
    "        adj_list[edge[0]] = [edge[1]]\n",
    "    else:\n",
    "        adj_list[edge[0]].append(edge[1])\n",
    "mother_vertex = find_mother()"
   ]
  },
  {
   "cell_type": "code",
   "execution_count": 4,
   "metadata": {},
   "outputs": [
    {
     "name": "stdout",
     "output_type": "stream",
     "text": [
      "Mother vertex: 5\n"
     ]
    }
   ],
   "source": [
    "print('Mother vertex: ' + str(mother_vertex))"
   ]
  }
 ],
 "metadata": {
  "kernelspec": {
   "display_name": "Python 3",
   "language": "python",
   "name": "python3"
  },
  "language_info": {
   "codemirror_mode": {
    "name": "ipython",
    "version": 3
   },
   "file_extension": ".py",
   "mimetype": "text/x-python",
   "name": "python",
   "nbconvert_exporter": "python",
   "pygments_lexer": "ipython3",
   "version": "3.7.4"
  }
 },
 "nbformat": 4,
 "nbformat_minor": 2
}
