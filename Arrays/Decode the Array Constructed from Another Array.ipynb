{
 "cells": [
  {
   "cell_type": "raw",
   "metadata": {},
   "source": [
    "Input: 3, 4, 5, 5, 6, 7\n",
    "Output: 1, 2, 3, 4"
   ]
  },
  {
   "cell_type": "code",
   "execution_count": 1,
   "metadata": {},
   "outputs": [],
   "source": [
    "import math"
   ]
  },
  {
   "cell_type": "code",
   "execution_count": 2,
   "metadata": {},
   "outputs": [],
   "source": [
    "def decode_array(array):\n",
    "    n = len(array)\n",
    "    m = get_array_size(n)\n",
    "    seq = [0 for _ in range(m)]\n",
    "    seq[0] = (array[0] + array[1] - array[m-1]) // 2\n",
    "    for i in range(1, m):\n",
    "        seq[i] = array[i-1] - seq[0]\n",
    "    return seq"
   ]
  },
  {
   "cell_type": "code",
   "execution_count": 3,
   "metadata": {},
   "outputs": [],
   "source": [
    "def get_array_size(n):\n",
    "    return int((1 + math.ceil(math.sqrt(8 * n))) / 2)"
   ]
  },
  {
   "cell_type": "code",
   "execution_count": 4,
   "metadata": {},
   "outputs": [],
   "source": [
    "#array = [3, 4, 5, 5, 6, 7]\n",
    "array = [8, 11, 22, 15, 26, 29]\n",
    "decoded_array = decode_array(array)"
   ]
  },
  {
   "cell_type": "code",
   "execution_count": 5,
   "metadata": {},
   "outputs": [
    {
     "name": "stdout",
     "output_type": "stream",
     "text": [
      "Decoded Array:  [2, 6, 9, 20]\n"
     ]
    }
   ],
   "source": [
    "print('Decoded Array: ', decoded_array)"
   ]
  }
 ],
 "metadata": {
  "kernelspec": {
   "display_name": "Python 3",
   "language": "python",
   "name": "python3"
  },
  "language_info": {
   "codemirror_mode": {
    "name": "ipython",
    "version": 3
   },
   "file_extension": ".py",
   "mimetype": "text/x-python",
   "name": "python",
   "nbconvert_exporter": "python",
   "pygments_lexer": "ipython3",
   "version": "3.7.4"
  }
 },
 "nbformat": 4,
 "nbformat_minor": 2
}
