{
 "cells": [
  {
   "cell_type": "raw",
   "metadata": {},
   "source": [
    "Given an array of integers, find the length of smallest subarray whose sum of elements is greater than the given positive number."
   ]
  },
  {
   "cell_type": "code",
   "execution_count": 1,
   "metadata": {
    "collapsed": true
   },
   "outputs": [],
   "source": [
    "given_array = [1, 2, 3, 4, 5, 6, 7, 8]\n",
    "#given_sum = 20\n",
    "#given_sum = 21\n",
    "#given_sum = 7\n",
    "given_sum = 40"
   ]
  },
  {
   "cell_type": "code",
   "execution_count": 2,
   "metadata": {
    "collapsed": true
   },
   "outputs": [],
   "source": [
    "m = len(given_array)\n",
    "min_len = 1000000\n",
    "cur_sum = 0\n",
    "start_index = 0\n",
    "min_start = 0\n",
    "min_end = m"
   ]
  },
  {
   "cell_type": "code",
   "execution_count": 3,
   "metadata": {
    "collapsed": true
   },
   "outputs": [],
   "source": [
    "for i in range(m):\n",
    "    cur_sum += given_array[i]\n",
    "    if cur_sum > given_sum:\n",
    "        l = i - start_index + 1\n",
    "        if l < min_len:\n",
    "            min_len = l\n",
    "            min_start = start_index\n",
    "            min_end = i+1\n",
    "        cur_sum -= given_array[start_index]\n",
    "        start_index += 1\n",
    "        while cur_sum > given_sum:\n",
    "            l = i - start_index + 1\n",
    "            if l < min_len:\n",
    "                min_len = l\n",
    "                min_start = start_index\n",
    "                min_end = i+1\n",
    "            cur_sum -= given_array[start_index]\n",
    "            start_index += 1"
   ]
  },
  {
   "cell_type": "code",
   "execution_count": 4,
   "metadata": {},
   "outputs": [
    {
     "name": "stdout",
     "output_type": "stream",
     "text": [
      "No such sub-array exists !!!\n"
     ]
    }
   ],
   "source": [
    "if min_len > 0 and min_len < 1000000:\n",
    "    print('Smallest sub-array length is ', min_len)\n",
    "    print('Smallest sub-array is: ', given_array[min_start: min_end])\n",
    "else:\n",
    "    print('No such sub-array exists !!!')"
   ]
  },
  {
   "cell_type": "code",
   "execution_count": null,
   "metadata": {
    "collapsed": true
   },
   "outputs": [],
   "source": []
  }
 ],
 "metadata": {
  "kernelspec": {
   "display_name": "Python 3",
   "language": "python",
   "name": "python3"
  },
  "language_info": {
   "codemirror_mode": {
    "name": "ipython",
    "version": 3
   },
   "file_extension": ".py",
   "mimetype": "text/x-python",
   "name": "python",
   "nbconvert_exporter": "python",
   "pygments_lexer": "ipython3",
   "version": "3.6.3"
  },
  "toc": {
   "base_numbering": 1,
   "nav_menu": {},
   "number_sections": false,
   "sideBar": false,
   "skip_h1_title": false,
   "title_cell": "Table of Contents",
   "title_sidebar": "Contents",
   "toc_cell": false,
   "toc_position": {},
   "toc_section_display": false,
   "toc_window_display": false
  }
 },
 "nbformat": 4,
 "nbformat_minor": 2
}
