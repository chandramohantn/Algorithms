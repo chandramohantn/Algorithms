{
 "cells": [
  {
   "cell_type": "code",
   "execution_count": 1,
   "metadata": {},
   "outputs": [],
   "source": [
    "def kmp(string, query):\n",
    "    index = [0 for _ in range(len(query))]\n",
    "    i = 0\n",
    "    for j in range(1, len(query)):\n",
    "        if query[i] == query[j]:\n",
    "            index[j] = index[j-1] + 1\n",
    "            i += 1\n",
    "        else:\n",
    "            i = 0\n",
    "            \n",
    "    i, j = 0, 0\n",
    "    while j < len(string):\n",
    "        if i == len(query):\n",
    "            return True\n",
    "        if string[j] == query[i]:\n",
    "            i += 1\n",
    "            j += 1\n",
    "        else:\n",
    "            while i != 0:\n",
    "                i = index[i - 1]\n",
    "                if string[j] == query[i]:\n",
    "                    j += 1\n",
    "                    i += 1\n",
    "                    break\n",
    "            j += 1\n",
    "    if i == len(query):\n",
    "        return True\n",
    "    else:\n",
    "        return False"
   ]
  },
  {
   "cell_type": "code",
   "execution_count": 2,
   "metadata": {},
   "outputs": [
    {
     "name": "stdout",
     "output_type": "stream",
     "text": [
      "Query exists in string !!!\n"
     ]
    }
   ],
   "source": [
    "#string = \"adsgwadsxdsgwadsgz\"\n",
    "#query = \"dsgwadsgz\"\n",
    "string = \"abcdabefab\"\n",
    "query = \"abcd\"\n",
    "if kmp(string, query):\n",
    "    print('Query exists in string !!!')\n",
    "else:\n",
    "    print('Query not found in string !!!')"
   ]
  },
  {
   "cell_type": "code",
   "execution_count": null,
   "metadata": {},
   "outputs": [],
   "source": []
  }
 ],
 "metadata": {
  "kernelspec": {
   "display_name": "Python 3",
   "language": "python",
   "name": "python3"
  },
  "language_info": {
   "codemirror_mode": {
    "name": "ipython",
    "version": 3
   },
   "file_extension": ".py",
   "mimetype": "text/x-python",
   "name": "python",
   "nbconvert_exporter": "python",
   "pygments_lexer": "ipython3",
   "version": "3.7.3"
  }
 },
 "nbformat": 4,
 "nbformat_minor": 2
}
