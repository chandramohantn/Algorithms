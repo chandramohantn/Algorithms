{
 "cells": [
  {
   "cell_type": "code",
   "execution_count": 1,
   "metadata": {
    "collapsed": true
   },
   "outputs": [],
   "source": [
    "def min_heapify(dist, n, i):\n",
    "    l = 2 * i + 1\n",
    "    r = 2 * i + 2\n",
    "    minm = i\n",
    "    if l < n and dist[l][0] < dist[minm][0]:\n",
    "        minm = l\n",
    "    if r < n and dist[r][0] < dist[minm][0]:\n",
    "        minm = r\n",
    "    if minm != i:\n",
    "        tmp = dist[i]\n",
    "        dist[i] = dist[minm]\n",
    "        dist[minm] = tmp\n",
    "        min_heapify(dist, n, minm)"
   ]
  },
  {
   "cell_type": "code",
   "execution_count": 2,
   "metadata": {
    "collapsed": true
   },
   "outputs": [],
   "source": [
    "def build_min_heap(dist, n):\n",
    "    for i in range(n//2-1, -1, -1):\n",
    "        min_heapify(dist, n, i)"
   ]
  },
  {
   "cell_type": "code",
   "execution_count": 3,
   "metadata": {
    "collapsed": true
   },
   "outputs": [],
   "source": [
    "def swap_nodes(min_heap, i, j):\n",
    "    tmp = min_heap[i]\n",
    "    min_heap[i] = min_heap[j]\n",
    "    min_heap[j] = tmp"
   ]
  },
  {
   "cell_type": "code",
   "execution_count": 5,
   "metadata": {},
   "outputs": [
    {
     "name": "stdout",
     "output_type": "stream",
     "text": [
      "Minimum Cost:  99\n",
      "Minimum Cost Spanning Tree:  [(0, 1), (3, 5), (2, 6), (2, 5), (3, 4), (1, 4)]\n"
     ]
    }
   ],
   "source": [
    "dist_array = [[10, (0, 1)], [28, (0, 2)], [25, (1, 4)], [16, (2, 5)], [14, (2, 6)], [18, (3, 6)], [22, (3, 4)], \n",
    "              [12, (3, 5)], [24, (4, 6)]]\n",
    "E = len(dist_array)\n",
    "nodes = []\n",
    "for d in dist_array:\n",
    "    nodes.append(d[1][0])\n",
    "    nodes.append(d[1][1])\n",
    "nodes = list(set(nodes))\n",
    "V = len(nodes)\n",
    "\n",
    "min_cost = 0\n",
    "min_tree = []\n",
    "n = len(dist_array)\n",
    "par_id = {}\n",
    "for i in range(V):\n",
    "    par_id[i] = i\n",
    "par_array = [i for i in range(V)]\n",
    "min_heap = dist_array\n",
    "build_min_heap(min_heap, n)\n",
    "swap_nodes(min_heap, 0, n-1)\n",
    "for i in range(1, n):\n",
    "    min_heapify(min_heap, n-i, 0)\n",
    "    swap_nodes(min_heap, 0, n-i-1)\n",
    "for i in range(n//2):\n",
    "    swap_nodes(min_heap, i, n-i-1)\n",
    "\n",
    "count = 0\n",
    "for i in range(n):\n",
    "    cur_edge = min_heap[i][1]\n",
    "    if par_id[par_array[cur_edge[0]]] != par_id[par_array[cur_edge[1]]]:\n",
    "        min_cost += min_heap[i][0]\n",
    "        min_tree.append(min_heap[i][1])\n",
    "        min_par = min(par_array[cur_edge[0]], par_array[cur_edge[1]])\n",
    "        min_par_id = min(par_id[par_array[cur_edge[0]]], par_id[par_array[cur_edge[1]]])\n",
    "        par_id[par_array[cur_edge[0]]], par_id[par_array[cur_edge[1]]] = min_par_id, min_par_id\n",
    "        par_array[cur_edge[0]], par_array[cur_edge[1]] = min_par, min_par\n",
    "        par_array[par_array[cur_edge[0]]], par_array[par_array[cur_edge[1]]] = min_par, min_par\n",
    "        count += 1\n",
    "        if count == (V-1):\n",
    "            break\n",
    "print(\"Minimum Cost: \", min_cost)\n",
    "print(\"Minimum Cost Spanning Tree: \", min_tree)"
   ]
  },
  {
   "cell_type": "code",
   "execution_count": null,
   "metadata": {
    "collapsed": true
   },
   "outputs": [],
   "source": []
  }
 ],
 "metadata": {
  "kernelspec": {
   "display_name": "Python 3",
   "language": "python",
   "name": "python3"
  },
  "language_info": {
   "codemirror_mode": {
    "name": "ipython",
    "version": 3
   },
   "file_extension": ".py",
   "mimetype": "text/x-python",
   "name": "python",
   "nbconvert_exporter": "python",
   "pygments_lexer": "ipython3",
   "version": "3.6.3"
  }
 },
 "nbformat": 4,
 "nbformat_minor": 2
}
