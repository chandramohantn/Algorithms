{
 "cells": [
  {
   "cell_type": "raw",
   "metadata": {},
   "source": [
    "Given a binary array, find the index of 0 to replaced with 1 to get maximum length sequence of continuous ones."
   ]
  },
  {
   "cell_type": "code",
   "execution_count": 1,
   "metadata": {
    "collapsed": true
   },
   "outputs": [],
   "source": [
    "given_array = [0, 0, 1, 0, 1, 1, 1, 0, 1, 1]\n",
    "#given_array = [0, 1, 0, 0, 1, 1, 1, 0, 0, 1, 1, 1, 1]\n",
    "m = len(given_array)"
   ]
  },
  {
   "cell_type": "code",
   "execution_count": 2,
   "metadata": {
    "collapsed": true
   },
   "outputs": [],
   "source": [
    "max_count = 0\n",
    "start_index = 0\n",
    "index = 0\n",
    "count_ones = 0\n",
    "count_zero = 1"
   ]
  },
  {
   "cell_type": "code",
   "execution_count": 3,
   "metadata": {},
   "outputs": [],
   "source": [
    "given_array = [0] + given_array + [0]\n",
    "m = len(given_array)\n",
    "for i in range(1, m):\n",
    "    if given_array[i] == 0:\n",
    "        count_zero += 1\n",
    "        if count_zero == 3:\n",
    "            if (count_ones+1) > max_count:\n",
    "                max_count = count_ones + 1\n",
    "                max_index = index\n",
    "                max_start = start_index + 1\n",
    "                max_end = i\n",
    "            start_index = index\n",
    "            count_ones -= till_index\n",
    "            count_zero = 2\n",
    "        if count_zero == 2:\n",
    "            index = i\n",
    "            till_index = count_ones\n",
    "    else:\n",
    "        count_ones += 1"
   ]
  },
  {
   "cell_type": "code",
   "execution_count": 4,
   "metadata": {},
   "outputs": [
    {
     "name": "stdout",
     "output_type": "stream",
     "text": [
      "Index to be replaced is 7 and max length is 6\n",
      "Max length subarray is:  [1, 1, 1, 0, 1, 1]\n"
     ]
    }
   ],
   "source": [
    "print('Index to be replaced is %d and max length is %d' %(max_index-1, max_count))\n",
    "print('Max length subarray is: ', given_array[max_start: max_end])"
   ]
  },
  {
   "cell_type": "code",
   "execution_count": null,
   "metadata": {
    "collapsed": true
   },
   "outputs": [],
   "source": []
  }
 ],
 "metadata": {
  "kernelspec": {
   "display_name": "Python 3",
   "language": "python",
   "name": "python3"
  },
  "language_info": {
   "codemirror_mode": {
    "name": "ipython",
    "version": 3
   },
   "file_extension": ".py",
   "mimetype": "text/x-python",
   "name": "python",
   "nbconvert_exporter": "python",
   "pygments_lexer": "ipython3",
   "version": "3.6.3"
  },
  "toc": {
   "base_numbering": 1,
   "nav_menu": {},
   "number_sections": false,
   "sideBar": false,
   "skip_h1_title": false,
   "title_cell": "Table of Contents",
   "title_sidebar": "Contents",
   "toc_cell": false,
   "toc_position": {},
   "toc_section_display": false,
   "toc_window_display": false
  }
 },
 "nbformat": 4,
 "nbformat_minor": 2
}
