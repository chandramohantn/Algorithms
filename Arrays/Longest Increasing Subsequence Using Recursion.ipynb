{
 "cells": [
  {
   "cell_type": "raw",
   "metadata": {},
   "source": [
    "Input: 0, 8, 4, 12, 2, 10, 6, 14, 1, 9, 5, 13, 3, 11, 7, 15\n",
    "Output: 0, 2, 6, 9, 11, 15"
   ]
  },
  {
   "cell_type": "code",
   "execution_count": 1,
   "metadata": {},
   "outputs": [],
   "source": [
    "import math"
   ]
  },
  {
   "cell_type": "code",
   "execution_count": 2,
   "metadata": {},
   "outputs": [],
   "source": [
    "def LIS(array, i, j, minm):\n",
    "    if i == j:\n",
    "        return 1\n",
    "    else:\n",
    "        l1 = LIS(array, i+1, j, minm)\n",
    "        l2 = 0\n",
    "        if array[i] > minm:\n",
    "            l2 = 1 + LIS(array, i+1, j, array[i])\n",
    "    return max(l1, l2)"
   ]
  },
  {
   "cell_type": "code",
   "execution_count": 3,
   "metadata": {},
   "outputs": [],
   "source": [
    "array = [0, 8, 4, 12, 2, 10, 6, 14, 1, 9, 5, 13, 3, 11, 7, 15]\n",
    "n = len(array)\n",
    "l_seq = LIS(array, 0, n-1, -math.inf)"
   ]
  },
  {
   "cell_type": "code",
   "execution_count": 4,
   "metadata": {},
   "outputs": [
    {
     "name": "stdout",
     "output_type": "stream",
     "text": [
      "Length of longest increasing subsequence: 6\n"
     ]
    }
   ],
   "source": [
    "print('Length of longest increasing subsequence: ' + str(l_seq))"
   ]
  },
  {
   "cell_type": "code",
   "execution_count": null,
   "metadata": {},
   "outputs": [],
   "source": []
  },
  {
   "cell_type": "code",
   "execution_count": 7,
   "metadata": {},
   "outputs": [],
   "source": [
    "def LIS(array, i, j, minm):\n",
    "    if i == j:\n",
    "        return 1, str(array[i])\n",
    "    else:\n",
    "        l1, seq1 = LIS(array, i+1, j, minm)\n",
    "        l2, seq2 = 0, str(array[i])\n",
    "        if array[i] > minm:\n",
    "            res1, res2 = LIS(array, i+1, j, array[i])\n",
    "            l2 = 1 + res1\n",
    "            seq2 += ' ' + res2\n",
    "        if l1 > l2:\n",
    "            return l1, seq1\n",
    "        else:\n",
    "            return l2, seq2"
   ]
  },
  {
   "cell_type": "code",
   "execution_count": 8,
   "metadata": {},
   "outputs": [],
   "source": [
    "array = [0, 8, 4, 12, 2, 10, 6, 14, 1, 9, 5, 13, 3, 11, 7, 15]\n",
    "n = len(array)\n",
    "l_seq, seq = LIS(array, 0, n-1, -math.inf)"
   ]
  },
  {
   "cell_type": "code",
   "execution_count": 9,
   "metadata": {},
   "outputs": [
    {
     "name": "stdout",
     "output_type": "stream",
     "text": [
      "Length of longest increasing subsequence: 6\n",
      "Longest increasing subsequence: 0 4 6 9 13 15\n"
     ]
    }
   ],
   "source": [
    "print('Length of longest increasing subsequence: ' + str(l_seq))\n",
    "print('Longest increasing subsequence: ' + seq)"
   ]
  },
  {
   "cell_type": "code",
   "execution_count": null,
   "metadata": {},
   "outputs": [],
   "source": []
  }
 ],
 "metadata": {
  "kernelspec": {
   "display_name": "Python 3",
   "language": "python",
   "name": "python3"
  },
  "language_info": {
   "codemirror_mode": {
    "name": "ipython",
    "version": 3
   },
   "file_extension": ".py",
   "mimetype": "text/x-python",
   "name": "python",
   "nbconvert_exporter": "python",
   "pygments_lexer": "ipython3",
   "version": "3.7.4"
  }
 },
 "nbformat": 4,
 "nbformat_minor": 2
}
