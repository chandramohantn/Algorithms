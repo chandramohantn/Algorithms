{
 "cells": [
  {
   "cell_type": "code",
   "execution_count": 1,
   "metadata": {},
   "outputs": [],
   "source": [
    "import math"
   ]
  },
  {
   "cell_type": "code",
   "execution_count": 2,
   "metadata": {},
   "outputs": [],
   "source": [
    "def construct_segment_tree(array, seg_array, start, end, pos):\n",
    "    if start == end:\n",
    "        seg_array[pos] = array[start]\n",
    "        return\n",
    "    mid = (start + end) // 2\n",
    "    construct_segment_tree(array, seg_array, start, mid, 2 * pos + 1)\n",
    "    construct_segment_tree(array, seg_array, mid + 1, end, 2 * pos + 2)\n",
    "    l_max = seg_array[2 * pos + 1]\n",
    "    r_max = seg_array[2 * pos + 2]\n",
    "    sl, ml_max = 0, -math.inf\n",
    "    for i in range(mid, start-1, -1):\n",
    "        sl += array[i]\n",
    "        if sl > ml_max:\n",
    "            ml_max = sl\n",
    "    sr, mr_max = 0, -math.inf\n",
    "    for i in range(mid+1, end+1):\n",
    "        sr += array[i]\n",
    "        if sr > mr_max:\n",
    "            mr_max = sr\n",
    "    seg_array[pos] = max(l_max, ml_max + mr_max, r_max)"
   ]
  },
  {
   "cell_type": "code",
   "execution_count": 3,
   "metadata": {},
   "outputs": [],
   "source": [
    "def range_query(array, seg_array, q_start, q_end, a_start, a_end, pos):\n",
    "    if a_start > q_end or a_end < q_start:\n",
    "        return None\n",
    "    elif q_start <= a_start and a_end <= q_end:\n",
    "        return seg_array[pos]\n",
    "    else:\n",
    "        mid = (a_start + a_end) // 2\n",
    "        l_max = range_query(array, seg_array, q_start, q_end, a_start, mid, 2 * pos + 1)\n",
    "        r_max = range_query(array, seg_array, q_start, q_end, mid + 1, a_end, 2 * pos + 2)\n",
    "        if l_max == None:\n",
    "            return r_max\n",
    "        elif r_max == None:\n",
    "            return l_max\n",
    "        else:\n",
    "            s_max = l_max + r_max\n",
    "            start = a_start\n",
    "            end = a_end\n",
    "            if a_start < q_start:\n",
    "                start = q_start\n",
    "                s_max = 0\n",
    "            if a_end > q_end:\n",
    "                end = q_end\n",
    "            s_max\n",
    "            for i in range(q_start, q_end+1):\n",
    "                s_max += array[i]\n",
    "            return max(l_max, s_max, r_max)"
   ]
  },
  {
   "cell_type": "code",
   "execution_count": 4,
   "metadata": {},
   "outputs": [],
   "source": [
    "def get_power_2(n):\n",
    "    power = 1\n",
    "    count = 0\n",
    "    while power < n:\n",
    "        power *= 2\n",
    "        count += 1\n",
    "    return power"
   ]
  },
  {
   "cell_type": "code",
   "execution_count": 5,
   "metadata": {},
   "outputs": [],
   "source": [
    "#array = [8, 2, 4, 5, 3, 0, -1, 7, 1, 6]\n",
    "#query = [1, 10]\n",
    "array = [-1, -1, 1, 1, -1, -1, 1, 1, -1, -1, 1, 1, -1, -1, 1, 1]\n",
    "query = [1, 5]"
   ]
  },
  {
   "cell_type": "code",
   "execution_count": 6,
   "metadata": {},
   "outputs": [],
   "source": [
    "l = get_power_2(len(array))\n",
    "seg_tree = [-math.inf for _ in range(2 * l - 1)]"
   ]
  },
  {
   "cell_type": "code",
   "execution_count": 7,
   "metadata": {},
   "outputs": [
    {
     "name": "stdout",
     "output_type": "stream",
     "text": [
      "[2, 2, 2, 2, 2, 2, 2, -1, 2, -1, 2, -1, 2, -1, 2, -1, -1, 1, 1, -1, -1, 1, 1, -1, -1, 1, 1, -1, -1, 1, 1]\n"
     ]
    }
   ],
   "source": [
    "construct_segment_tree(array, seg_tree, 0, len(array) - 1, 0)\n",
    "print(seg_tree)"
   ]
  },
  {
   "cell_type": "code",
   "execution_count": 8,
   "metadata": {},
   "outputs": [
    {
     "name": "stdout",
     "output_type": "stream",
     "text": [
      "2\n"
     ]
    }
   ],
   "source": [
    "maxm = range_query(array, seg_tree, query[0]-1, query[1]-1, 0, len(array) - 1, 0)\n",
    "print(maxm)"
   ]
  },
  {
   "cell_type": "code",
   "execution_count": null,
   "metadata": {},
   "outputs": [],
   "source": []
  }
 ],
 "metadata": {
  "kernelspec": {
   "display_name": "Python 3",
   "language": "python",
   "name": "python3"
  },
  "language_info": {
   "codemirror_mode": {
    "name": "ipython",
    "version": 3
   },
   "file_extension": ".py",
   "mimetype": "text/x-python",
   "name": "python",
   "nbconvert_exporter": "python",
   "pygments_lexer": "ipython3",
   "version": "3.7.4"
  }
 },
 "nbformat": 4,
 "nbformat_minor": 2
}
