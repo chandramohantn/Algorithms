{
 "cells": [
  {
   "cell_type": "code",
   "execution_count": 1,
   "metadata": {},
   "outputs": [],
   "source": [
    "def find_k_cores(vertex):\n",
    "    if degrees[vertex] < k:\n",
    "        to_be_removed.append(vertex)\n",
    "        for adj_vertex in adj_list[vertex]:\n",
    "            degrees[adj_vertex] -= 1\n",
    "            adj_list[adj_vertex].remove(vertex)\n",
    "            find_k_cores(adj_vertex)"
   ]
  },
  {
   "cell_type": "code",
   "execution_count": 2,
   "metadata": {},
   "outputs": [],
   "source": [
    "k = 3\n",
    "n_vertices = 9\n",
    "edges = [[0, 1], [0, 2], [1, 2], [1, 5], [2, 5], [5, 6], [5, 8], [6, 8], [2, 4], [2, 6], [4, 6], [3, 4], [3, 6], \n",
    "        [3, 7], [4, 7], [6, 7]]\n",
    "adj_list = {}\n",
    "for edge in edges:\n",
    "    if edge[0] not in adj_list:\n",
    "        adj_list[edge[0]] = set()\n",
    "        adj_list[edge[0]].add(edge[1])\n",
    "    else:\n",
    "        adj_list[edge[0]].add(edge[1])\n",
    "    if edge[1] not in adj_list:\n",
    "        adj_list[edge[1]] = set()\n",
    "        adj_list[edge[1]].add(edge[0])\n",
    "    else:\n",
    "        adj_list[edge[1]].add(edge[0])\n",
    "degrees = [0 for _ in range(n_vertices)]\n",
    "to_be_removed = []\n",
    "for vertex in adj_list:\n",
    "    degrees[vertex] = len(adj_list[vertex])\n",
    "        \n",
    "find_k_cores(0)\n",
    "for vertex in to_be_removed:\n",
    "    del adj_list[vertex]"
   ]
  },
  {
   "cell_type": "code",
   "execution_count": 3,
   "metadata": {},
   "outputs": [
    {
     "name": "stdout",
     "output_type": "stream",
     "text": [
      "k-Cores of Graph\n",
      "2 {4, 5, 6}\n",
      "5 {8, 2, 6}\n",
      "6 {2, 3, 4, 5, 7, 8}\n",
      "8 {5, 6}\n",
      "4 {2, 3, 6, 7}\n",
      "3 {4, 6, 7}\n",
      "7 {3, 4, 6}\n"
     ]
    }
   ],
   "source": [
    "print('k-Cores of Graph')\n",
    "for vertex in adj_list:\n",
    "    print(vertex, adj_list[vertex])"
   ]
  }
 ],
 "metadata": {
  "kernelspec": {
   "display_name": "Python 3",
   "language": "python",
   "name": "python3"
  },
  "language_info": {
   "codemirror_mode": {
    "name": "ipython",
    "version": 3
   },
   "file_extension": ".py",
   "mimetype": "text/x-python",
   "name": "python",
   "nbconvert_exporter": "python",
   "pygments_lexer": "ipython3",
   "version": "3.7.4"
  }
 },
 "nbformat": 4,
 "nbformat_minor": 2
}
