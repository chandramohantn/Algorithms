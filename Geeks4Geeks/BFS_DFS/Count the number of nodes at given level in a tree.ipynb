{
 "cells": [
  {
   "cell_type": "code",
   "execution_count": 1,
   "metadata": {},
   "outputs": [],
   "source": [
    "def count_nodes(root, cur_level, level):\n",
    "    if cur_level == level:\n",
    "        return 1\n",
    "    else:\n",
    "        count = 0\n",
    "        for vertex in adj_list[root]:\n",
    "            count += count_nodes(vertex, cur_level+1, level)\n",
    "        return count"
   ]
  },
  {
   "cell_type": "code",
   "execution_count": 2,
   "metadata": {},
   "outputs": [],
   "source": [
    "level = 2\n",
    "n_vertices = 7\n",
    "edges = [[0, 1], [0, 2], [1, 4], [1, 3], [1, 5], [2, 6]]\n",
    "adj_list = {}\n",
    "for edge in edges:\n",
    "    if edge[0] not in adj_list:\n",
    "        adj_list[edge[0]] = [edge[1]]\n",
    "    else:\n",
    "        adj_list[edge[0]].append(edge[1])\n",
    "\n",
    "n_nodes = count_nodes(0, 0, level)"
   ]
  },
  {
   "cell_type": "code",
   "execution_count": 3,
   "metadata": {},
   "outputs": [
    {
     "name": "stdout",
     "output_type": "stream",
     "text": [
      "Number of nodes:  4\n"
     ]
    }
   ],
   "source": [
    "print('Number of nodes: ', n_nodes)"
   ]
  }
 ],
 "metadata": {
  "kernelspec": {
   "display_name": "Python 3",
   "language": "python",
   "name": "python3"
  },
  "language_info": {
   "codemirror_mode": {
    "name": "ipython",
    "version": 3
   },
   "file_extension": ".py",
   "mimetype": "text/x-python",
   "name": "python",
   "nbconvert_exporter": "python",
   "pygments_lexer": "ipython3",
   "version": "3.7.4"
  }
 },
 "nbformat": 4,
 "nbformat_minor": 2
}
