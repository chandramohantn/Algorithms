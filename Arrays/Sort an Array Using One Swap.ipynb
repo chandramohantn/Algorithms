{
 "cells": [
  {
   "cell_type": "raw",
   "metadata": {},
   "source": [
    "Input: 3, 8, 6, 7, 5, 9\n",
    "Output: 3, 5, 6, 7, 8, 9"
   ]
  },
  {
   "cell_type": "code",
   "execution_count": 1,
   "metadata": {},
   "outputs": [],
   "source": [
    "def sort(array):\n",
    "    start, end = -1, -1\n",
    "    for i in range(1, len(array)):\n",
    "        if start == -1:\n",
    "            if array[i-1] > array[i]:\n",
    "                start = i-1\n",
    "                end = i\n",
    "        else:\n",
    "            if array[i-1] > array[i]:\n",
    "                end = i\n",
    "                break\n",
    "    tmp = array[start]\n",
    "    array[start] = array[end]\n",
    "    array[end] = tmp"
   ]
  },
  {
   "cell_type": "code",
   "execution_count": 2,
   "metadata": {},
   "outputs": [],
   "source": [
    "#array = [3, 8, 6, 7, 5, 9]\n",
    "#array = [3, 5, 7, 6, 8, 9]\n",
    "array = [3, 5, 6, 9, 8, 7]\n",
    "sort(array)"
   ]
  },
  {
   "cell_type": "code",
   "execution_count": 3,
   "metadata": {},
   "outputs": [
    {
     "name": "stdout",
     "output_type": "stream",
     "text": [
      "Sorted Array:  [3, 5, 6, 7, 8, 9]\n"
     ]
    }
   ],
   "source": [
    "print('Sorted Array: ', array)"
   ]
  }
 ],
 "metadata": {
  "kernelspec": {
   "display_name": "Python 3",
   "language": "python",
   "name": "python3"
  },
  "language_info": {
   "codemirror_mode": {
    "name": "ipython",
    "version": 3
   },
   "file_extension": ".py",
   "mimetype": "text/x-python",
   "name": "python",
   "nbconvert_exporter": "python",
   "pygments_lexer": "ipython3",
   "version": "3.7.4"
  }
 },
 "nbformat": 4,
 "nbformat_minor": 2
}
