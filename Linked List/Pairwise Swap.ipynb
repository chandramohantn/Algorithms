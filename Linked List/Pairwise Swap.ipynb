{
 "cells": [
  {
   "cell_type": "raw",
   "metadata": {},
   "source": [
    "Input: 1 2 3 4 5 6 7\n",
    "Output: 2 1 4 3 6 5 7"
   ]
  },
  {
   "cell_type": "code",
   "execution_count": 1,
   "metadata": {
    "collapsed": true
   },
   "outputs": [],
   "source": [
    "class Node:\n",
    "\n",
    "    def __init__(self, value):\n",
    "        self.value = value\n",
    "        self.link = None"
   ]
  },
  {
   "cell_type": "code",
   "execution_count": 2,
   "metadata": {
    "collapsed": true
   },
   "outputs": [],
   "source": [
    "class LinkedList:\n",
    "    \n",
    "    def __init__(self):\n",
    "        self.head = None\n",
    "        \n",
    "    def add(self, value):\n",
    "        node = Node(value)\n",
    "        node.link = self.head\n",
    "        self.head = node\n",
    "        \n",
    "    def traverse(self, head):\n",
    "        s = ''\n",
    "        while head != None:\n",
    "            s += str(head.value) + '->'\n",
    "            head = head.link\n",
    "        return s[0:-2]\n",
    "            \n",
    "    def pairwise_swap(self, ptr):\n",
    "        if ptr == None or ptr.link == None:\n",
    "            return ptr\n",
    "        else:\n",
    "            tmp = ptr.link\n",
    "            nxt = ptr.link.link\n",
    "            tmp.link = ptr\n",
    "            ptr.link = self.pairwise_swap(nxt)\n",
    "            return tmp"
   ]
  },
  {
   "cell_type": "code",
   "execution_count": 3,
   "metadata": {},
   "outputs": [
    {
     "name": "stdout",
     "output_type": "stream",
     "text": [
      "1->2->3->4->5->6\n",
      "2->1->4->3->6->5\n",
      "1->2->3->4->5\n",
      "2->1->4->3->5\n"
     ]
    }
   ],
   "source": [
    "ll_1 = LinkedList()\n",
    "for i in range(6, 0, -1):\n",
    "    ll_1.add(i)\n",
    "print(ll_1.traverse(ll_1.head))\n",
    "head = ll_1.pairwise_swap(ll_1.head)\n",
    "print(ll_1.traverse(head))\n",
    "    \n",
    "ll_2 = LinkedList()\n",
    "for i in range(5, 0, -1):\n",
    "    ll_2.add(i)\n",
    "print(ll_2.traverse(ll_2.head))\n",
    "head = ll_2.pairwise_swap(ll_2.head)\n",
    "print(ll_2.traverse(head))"
   ]
  }
 ],
 "metadata": {
  "kernelspec": {
   "display_name": "Python 3",
   "language": "python",
   "name": "python3"
  },
  "language_info": {
   "codemirror_mode": {
    "name": "ipython",
    "version": 3
   },
   "file_extension": ".py",
   "mimetype": "text/x-python",
   "name": "python",
   "nbconvert_exporter": "python",
   "pygments_lexer": "ipython3",
   "version": "3.6.3"
  }
 },
 "nbformat": 4,
 "nbformat_minor": 2
}
