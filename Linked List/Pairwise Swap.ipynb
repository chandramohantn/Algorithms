{
 "cells": [
  {
   "cell_type": "raw",
   "metadata": {},
   "source": [
    "Input : 1->2->3->4->5->6->NULL\n",
    "Output : 2->1->4->3->6->5->NULL"
   ]
  },
  {
   "cell_type": "code",
   "execution_count": 1,
   "metadata": {},
   "outputs": [],
   "source": [
    "class Node:\n",
    "    \n",
    "    def __init__(self, value):\n",
    "        self.value = value\n",
    "        self.link = None"
   ]
  },
  {
   "cell_type": "code",
   "execution_count": 8,
   "metadata": {},
   "outputs": [],
   "source": [
    "class LinkedList:\n",
    "    \n",
    "    def __init__(self):\n",
    "        self.head = None\n",
    "        \n",
    "    def add(self, value):\n",
    "        node = Node(value)\n",
    "        node.link = self.head\n",
    "        self.head = node\n",
    "        \n",
    "    def traverse(self):\n",
    "        head = self.head\n",
    "        s = ''\n",
    "        while head != None:\n",
    "            s += str(head.value) + '->'\n",
    "            head = head.link\n",
    "        return s[0:-2]\n",
    "            \n",
    "    def pairwise_swap(self):\n",
    "        head = self.head\n",
    "        if head.link != None:\n",
    "            tmp = head.link\n",
    "            head.link = tmp.link\n",
    "            tmp.link = head\n",
    "            self.head = tmp\n",
    "            head = tmp\n",
    "            while head != None and head.link != None:\n",
    "                tmp = head.link\n",
    "                head.link = tmp.link\n",
    "                tmp.link = head\n",
    "                head = head.link"
   ]
  },
  {
   "cell_type": "code",
   "execution_count": 9,
   "metadata": {},
   "outputs": [
    {
     "name": "stdout",
     "output_type": "stream",
     "text": [
      "1->2->3->4->5->6\n",
      "2->1->3->5\n",
      "1->2->3->4->5->6\n",
      "2->1->3->5\n"
     ]
    }
   ],
   "source": [
    "ll_1 = LinkedList()\n",
    "for i in range(6, 0, -1):\n",
    "    ll_1.add(i)\n",
    "print(ll_1.traverse())\n",
    "ll_1.pairwise_swap()\n",
    "print(ll_1.traverse())\n",
    "    \n",
    "ll_2 = LinkedList()\n",
    "for i in range(6, 0, -1):\n",
    "    ll_2.add(i)\n",
    "print(ll_2.traverse())\n",
    "ll_2.pairwise_swap()\n",
    "print(ll_2.traverse())"
   ]
  },
  {
   "cell_type": "code",
   "execution_count": null,
   "metadata": {},
   "outputs": [],
   "source": []
  }
 ],
 "metadata": {
  "kernelspec": {
   "display_name": "Python 3",
   "language": "python",
   "name": "python3"
  },
  "language_info": {
   "codemirror_mode": {
    "name": "ipython",
    "version": 3
   },
   "file_extension": ".py",
   "mimetype": "text/x-python",
   "name": "python",
   "nbconvert_exporter": "python",
   "pygments_lexer": "ipython3",
   "version": "3.7.4"
  }
 },
 "nbformat": 4,
 "nbformat_minor": 2
}
