{
 "cells": [
  {
   "cell_type": "raw",
   "metadata": {},
   "source": [
    "Find largest number possible from set of given numbers. The numbers should be appended to each other in any order to form the largest number."
   ]
  },
  {
   "cell_type": "code",
   "execution_count": 1,
   "metadata": {
    "collapsed": true
   },
   "outputs": [],
   "source": [
    "given_array = [10, 68, 97, 9, 21, 12]"
   ]
  },
  {
   "cell_type": "code",
   "execution_count": 2,
   "metadata": {
    "collapsed": true
   },
   "outputs": [],
   "source": [
    "max_number = 0\n",
    "m = len(given_array)"
   ]
  },
  {
   "cell_type": "code",
   "execution_count": 3,
   "metadata": {
    "collapsed": true
   },
   "outputs": [],
   "source": [
    "def compare(a, b):\n",
    "    s1 = str(a) + str(b)\n",
    "    s2 = str(b) + str(a)\n",
    "    if int(s1) > int(s2):\n",
    "        return a\n",
    "    else:\n",
    "        return b"
   ]
  },
  {
   "cell_type": "code",
   "execution_count": 4,
   "metadata": {
    "collapsed": true
   },
   "outputs": [],
   "source": [
    "def sort(array):\n",
    "    for i in range(m):\n",
    "        maxm = array[i]\n",
    "        for j in range(i+1, m):\n",
    "            mx = compare(maxm, array[j])\n",
    "            if mx != maxm:\n",
    "                maxm = mx\n",
    "                max_index = j\n",
    "        array[max_index] = array[i]\n",
    "        array[i] = str(maxm)\n",
    "    return array"
   ]
  },
  {
   "cell_type": "code",
   "execution_count": 5,
   "metadata": {},
   "outputs": [
    {
     "name": "stdout",
     "output_type": "stream",
     "text": [
      "99768211210\n"
     ]
    }
   ],
   "source": [
    "sorted_array = sort(given_array)\n",
    "print(''.join(sorted_array))"
   ]
  },
  {
   "cell_type": "code",
   "execution_count": null,
   "metadata": {
    "collapsed": true
   },
   "outputs": [],
   "source": []
  }
 ],
 "metadata": {
  "kernelspec": {
   "display_name": "Python 3",
   "language": "python",
   "name": "python3"
  },
  "language_info": {
   "codemirror_mode": {
    "name": "ipython",
    "version": 3
   },
   "file_extension": ".py",
   "mimetype": "text/x-python",
   "name": "python",
   "nbconvert_exporter": "python",
   "pygments_lexer": "ipython3",
   "version": "3.6.3"
  },
  "toc": {
   "base_numbering": 1,
   "nav_menu": {},
   "number_sections": false,
   "sideBar": false,
   "skip_h1_title": false,
   "title_cell": "Table of Contents",
   "title_sidebar": "Contents",
   "toc_cell": false,
   "toc_position": {},
   "toc_section_display": false,
   "toc_window_display": false
  }
 },
 "nbformat": 4,
 "nbformat_minor": 2
}
