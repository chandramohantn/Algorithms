{
 "cells": [
  {
   "cell_type": "code",
   "execution_count": 1,
   "metadata": {},
   "outputs": [],
   "source": [
    "class DirectedGraph:\n",
    "    \n",
    "    def __init__(self):\n",
    "        self.graph = {}\n",
    "        \n",
    "    def add_node(self, node):\n",
    "        self.graph[node] = {}\n",
    "        \n",
    "    def add_connection(self, node1, node2, weight):\n",
    "        self.graph[node1][node2] = weight\n",
    "        \n",
    "    def create_dist_matrix(self):\n",
    "        self.node_index = {}\n",
    "        index = 0\n",
    "        for node in self.graph.keys():\n",
    "            if node not in self.node_index:\n",
    "                self.node_index[node] = index\n",
    "                index += 1\n",
    "            for adj_node in self.graph[node].keys():\n",
    "                if adj_node not in self.node_index:\n",
    "                    self.node_index[adj_node] = index\n",
    "                    index += 1\n",
    "        self.n_nodes = index\n",
    "        self.dist_matrix = [[float(\"inf\") for _ in range(self.n_nodes)] for _ in range(self.n_nodes)]\n",
    "        for node in self.graph.keys():\n",
    "            for adj_node in self.graph[node].keys():\n",
    "                self.dist_matrix[self.node_index[node]][self.node_index[adj_node]] = self.graph[node][adj_node]\n",
    "        for i in range(self.n_nodes):\n",
    "            self.dist_matrix[i][i] = 0\n",
    "        \n",
    "    def find_nearest(self, distances, visited):\n",
    "        min_dist = float(\"inf\")\n",
    "        for i in range(self.n_nodes):\n",
    "            if (distances[i] < min_dist) and (visited[i] == False):\n",
    "                min_dist = distances[i]\n",
    "                min_node = i\n",
    "        return min_node\n",
    "        \n",
    "    def dijkstra(self, start):\n",
    "        self.create_dist_matrix()\n",
    "        distances = [float(\"inf\") for _ in range(self.n_nodes)]\n",
    "        distances[self.node_index[start]] = 0\n",
    "        visited = [False for _ in range(self.n_nodes)]\n",
    "        \n",
    "        for i in range(self.n_nodes):\n",
    "            nearest_node = self.find_nearest(distances, visited)\n",
    "            for j in range(self.n_nodes):\n",
    "                if (visited[j] == False) and (self.dist_matrix[nearest_node][j] != float(\"inf\")):\n",
    "                    if distances[j] > (distances[nearest_node] + self.dist_matrix[nearest_node][j]):\n",
    "                        distances[j] = distances[nearest_node] + self.dist_matrix[nearest_node][j]\n",
    "            visited[nearest_node] = True\n",
    "        return distances"
   ]
  },
  {
   "cell_type": "code",
   "execution_count": 2,
   "metadata": {},
   "outputs": [
    {
     "name": "stdout",
     "output_type": "stream",
     "text": [
      "[0, 2, 3, 8, 6, 9]\n"
     ]
    }
   ],
   "source": [
    "graph = DirectedGraph()\n",
    "graph.add_node('1')\n",
    "graph.add_node('2')\n",
    "graph.add_node('3')\n",
    "graph.add_node('4')\n",
    "graph.add_node('5')\n",
    "graph.add_node('6')\n",
    "graph.add_connection('1', '2', 2)\n",
    "graph.add_connection('1', '3', 4)\n",
    "graph.add_connection('2', '3', 1)\n",
    "graph.add_connection('2', '4', 7)\n",
    "graph.add_connection('3', '5', 3)\n",
    "graph.add_connection('5', '4', 2)\n",
    "graph.add_connection('4', '6', 1)\n",
    "graph.add_connection('5', '6', 5)\n",
    "distances = graph.dijkstra('1')\n",
    "print(distances)"
   ]
  },
  {
   "cell_type": "code",
   "execution_count": null,
   "metadata": {},
   "outputs": [],
   "source": []
  }
 ],
 "metadata": {
  "kernelspec": {
   "display_name": "Python 3",
   "language": "python",
   "name": "python3"
  },
  "language_info": {
   "codemirror_mode": {
    "name": "ipython",
    "version": 3
   },
   "file_extension": ".py",
   "mimetype": "text/x-python",
   "name": "python",
   "nbconvert_exporter": "python",
   "pygments_lexer": "ipython3",
   "version": "3.7.4"
  }
 },
 "nbformat": 4,
 "nbformat_minor": 2
}
