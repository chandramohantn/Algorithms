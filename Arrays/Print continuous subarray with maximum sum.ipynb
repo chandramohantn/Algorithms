{
 "cells": [
  {
   "cell_type": "raw",
   "metadata": {},
   "source": [
    "Print continuous subarray with maximum sum"
   ]
  },
  {
   "cell_type": "code",
   "execution_count": 1,
   "metadata": {
    "collapsed": true
   },
   "outputs": [],
   "source": [
    "given_array = [-2, 1, -3, 4, -1, 2, 1, -5, 4]\n",
    "m = len(given_array)\n",
    "prv_sum = 0\n",
    "cur_sum = 0"
   ]
  },
  {
   "cell_type": "code",
   "execution_count": 2,
   "metadata": {
    "collapsed": true
   },
   "outputs": [],
   "source": [
    "for i in range(m):\n",
    "    cur_sum += given_array[i]\n",
    "    if cur_sum < 0:\n",
    "        cur_sum = 0\n",
    "        start = i + 1\n",
    "    if cur_sum > prv_sum:\n",
    "        prv_sum = cur_sum\n",
    "        end = i"
   ]
  },
  {
   "cell_type": "code",
   "execution_count": 3,
   "metadata": {},
   "outputs": [
    {
     "name": "stdout",
     "output_type": "stream",
     "text": [
      "Continous subarray with maximum sum is:  [4, -1, 2, 1]\n"
     ]
    }
   ],
   "source": [
    "print('Continous subarray with maximum sum is: ', given_array[start: end +1])"
   ]
  },
  {
   "cell_type": "code",
   "execution_count": null,
   "metadata": {
    "collapsed": true
   },
   "outputs": [],
   "source": []
  }
 ],
 "metadata": {
  "kernelspec": {
   "display_name": "Python 3",
   "language": "python",
   "name": "python3"
  },
  "language_info": {
   "codemirror_mode": {
    "name": "ipython",
    "version": 3
   },
   "file_extension": ".py",
   "mimetype": "text/x-python",
   "name": "python",
   "nbconvert_exporter": "python",
   "pygments_lexer": "ipython3",
   "version": "3.6.3"
  }
 },
 "nbformat": 4,
 "nbformat_minor": 2
}
