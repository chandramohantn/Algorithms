{
 "cells": [
  {
   "cell_type": "code",
   "execution_count": 8,
   "metadata": {},
   "outputs": [],
   "source": [
    "class UndirectedUnweightedGraph:\n",
    "    \n",
    "    def __init__(self):\n",
    "        self.graph = {}\n",
    "        \n",
    "    def add_node(self, node):\n",
    "        self.graph[node] = []\n",
    "        \n",
    "    def add_connection(self, node1, node2):\n",
    "        self.graph[node1].append(node2)\n",
    "        self.graph[node2].append(node1)\n",
    "    \n",
    "    def bfs(self, start):\n",
    "        bfs_traversal = []\n",
    "        queue = [start]\n",
    "        visited = {}\n",
    "        for node in self.graph.keys():\n",
    "            visited[node] = 0\n",
    "        visited[start] = 1\n",
    "        while queue:\n",
    "            node = queue.pop(0)\n",
    "            bfs_traversal.append(node)\n",
    "            for connected_node in self.graph[node]:\n",
    "                if visited[connected_node] == 0:\n",
    "                    queue.append(connected_node)\n",
    "                    visited[connected_node] = 1\n",
    "        return bfs_traversal\n",
    "        \n",
    "    def dfs(self, start):\n",
    "        dfs_traversal = []\n",
    "        stack = [start]\n",
    "        visited = {}\n",
    "        for node in self.graph.keys():\n",
    "            visited[node] = 0\n",
    "        visited[start] = 1\n",
    "        while stack:\n",
    "            node = stack.pop(-1)\n",
    "            dfs_traversal.append(node)\n",
    "            for connected_node in self.graph[node]:\n",
    "                if visited[connected_node] == 0:\n",
    "                    stack.append(connected_node)\n",
    "                    visited[connected_node] = 1\n",
    "        return dfs_traversal"
   ]
  },
  {
   "cell_type": "code",
   "execution_count": 9,
   "metadata": {},
   "outputs": [
    {
     "name": "stdout",
     "output_type": "stream",
     "text": [
      "{'a': ['b', 'd', 'c'], 'b': ['a', 'c'], 'c': ['b', 'd', 'a'], 'd': ['c', 'a']}\n",
      "['a', 'b', 'd', 'c']\n",
      "['a', 'c', 'd', 'b']\n"
     ]
    }
   ],
   "source": [
    "graph = UndirectedUnweightedGraph()\n",
    "graph.add_node('a')\n",
    "graph.add_node('b')\n",
    "graph.add_node('c')\n",
    "graph.add_node('d')\n",
    "graph.add_connection('a', 'b')\n",
    "graph.add_connection('c', 'b')\n",
    "graph.add_connection('c', 'd')\n",
    "graph.add_connection('a', 'd')\n",
    "graph.add_connection('a', 'c')\n",
    "queue = graph.bfs('a')\n",
    "stack = graph.dfs('a')\n",
    "print(graph.graph)\n",
    "print(queue)\n",
    "print(stack)"
   ]
  },
  {
   "cell_type": "code",
   "execution_count": null,
   "metadata": {},
   "outputs": [],
   "source": []
  }
 ],
 "metadata": {
  "kernelspec": {
   "display_name": "Python 3",
   "language": "python",
   "name": "python3"
  },
  "language_info": {
   "codemirror_mode": {
    "name": "ipython",
    "version": 3
   },
   "file_extension": ".py",
   "mimetype": "text/x-python",
   "name": "python",
   "nbconvert_exporter": "python",
   "pygments_lexer": "ipython3",
   "version": "3.7.3"
  }
 },
 "nbformat": 4,
 "nbformat_minor": 2
}
