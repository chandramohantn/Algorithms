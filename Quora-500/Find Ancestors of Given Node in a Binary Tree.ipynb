{
 "cells": [
  {
   "cell_type": "raw",
   "metadata": {},
   "source": [
    "    /* Construct below tree\n",
    "         1\n",
    "       /   \\\n",
    "      /     \\\n",
    "     2      3\n",
    "      \\    / \\\n",
    "       4  5   6\n",
    "         / \\\n",
    "        7   8\n",
    "    */\n",
    "Input: 7\n",
    "Output: 5, 3, 1"
   ]
  },
  {
   "cell_type": "code",
   "execution_count": 9,
   "metadata": {
    "collapsed": true
   },
   "outputs": [],
   "source": [
    "ancestors = []\n",
    "def find_ancestors_recursive(tree, idx, n, node):\n",
    "    if idx < n:\n",
    "        if tree[idx] == None:\n",
    "            return False\n",
    "        elif tree[idx] == node:\n",
    "                return True\n",
    "        else:\n",
    "            left = find_ancestors_recursive(tree, 2 * idx + 1, n, node)\n",
    "            right = False\n",
    "            if left == False:\n",
    "                right = find_ancestors_recursive(tree, 2 * idx + 2, n, node)\n",
    "            if left == True or right == True:\n",
    "                ancestors.append(tree[idx])\n",
    "            return left or right"
   ]
  },
  {
   "cell_type": "code",
   "execution_count": 10,
   "metadata": {},
   "outputs": [
    {
     "name": "stdout",
     "output_type": "stream",
     "text": [
      "Ancestors of 4:  [2, 1]\n"
     ]
    }
   ],
   "source": [
    "# Constructing binary tree\n",
    "tree = [None for _ in range(15)]\n",
    "tree[0] = 1\n",
    "tree[1] = 2\n",
    "tree[2] = 3\n",
    "tree[4] = 4\n",
    "tree[5] = 5\n",
    "tree[6] = 6\n",
    "tree[11] = 7\n",
    "tree[12] = 8\n",
    "node = 4\n",
    "l = len(tree)\n",
    "find_ancestors_recursive(tree, 0, l, node)\n",
    "print('Ancestors of ' + str(node) + ': ', ancestors)"
   ]
  },
  {
   "cell_type": "code",
   "execution_count": null,
   "metadata": {
    "collapsed": true
   },
   "outputs": [],
   "source": []
  },
  {
   "cell_type": "code",
   "execution_count": null,
   "metadata": {
    "collapsed": true
   },
   "outputs": [],
   "source": [
    "ancestors = []\n",
    "def find_ancestors_iterative(tree, idx, n, node):\n",
    "    ancestors = []\n",
    "    stack = [0 for _ in range(n)]\n",
    "    visited = [0 for _ in range(n)]\n",
    "    top = -1\n",
    "    flag = 0\n",
    "    while True:\n",
    "        if tree[idx] == node:\n",
    "            while top != -1:\n",
    "                ancestors.append(stack[top][0])\n",
    "                top -= 1\n",
    "            break\n",
    "        elif (tree[idx] == None) or (idx > n):\n",
    "            if idx < n:\n",
    "                visited[idx] = 1\n",
    "            idx = 2 * stack[top][1] + 2\n",
    "        else:\n",
    "            top += 1\n",
    "            stack[top] = [tree[idx], idx]\n",
    "            visited[idx] = 1\n",
    "            idx = 2 * idx + 1\n",
    "    return ancestors"
   ]
  },
  {
   "cell_type": "code",
   "execution_count": null,
   "metadata": {
    "collapsed": true
   },
   "outputs": [],
   "source": [
    "# Constructing binary tree\n",
    "tree = [None for _ in range(15)]\n",
    "tree[0] = 1\n",
    "tree[1] = 2\n",
    "tree[2] = 3\n",
    "tree[4] = 4\n",
    "tree[5] = 5\n",
    "tree[6] = 6\n",
    "tree[11] = 7\n",
    "tree[12] = 8\n",
    "node = 4\n",
    "l = len(tree)\n",
    "find_ancestors_iterative(tree, 0, l, node)\n",
    "print('Ancestors of ' + str(node) + ': ', ancestors)"
   ]
  }
 ],
 "metadata": {
  "kernelspec": {
   "display_name": "Python 3",
   "language": "python",
   "name": "python3"
  },
  "language_info": {
   "codemirror_mode": {
    "name": "ipython",
    "version": 3
   },
   "file_extension": ".py",
   "mimetype": "text/x-python",
   "name": "python",
   "nbconvert_exporter": "python",
   "pygments_lexer": "ipython3",
   "version": "3.6.3"
  }
 },
 "nbformat": 4,
 "nbformat_minor": 2
}
