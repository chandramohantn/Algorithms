{
 "cells": [
  {
   "cell_type": "raw",
   "metadata": {},
   "source": [
    "Given an array of integers, print all sub-arrays with zero sum"
   ]
  },
  {
   "cell_type": "code",
   "execution_count": 1,
   "metadata": {
    "collapsed": true
   },
   "outputs": [],
   "source": [
    "given_array = [3, 4, -7, 3, 1, 3, 1, -4, -2, -2]\n",
    "sub_arrays = []"
   ]
  },
  {
   "cell_type": "code",
   "execution_count": 2,
   "metadata": {
    "collapsed": true
   },
   "outputs": [],
   "source": [
    "# Time complexity: O(n^2)\n",
    "for i in range(len(given_array)):\n",
    "    sub_array_sum = 0\n",
    "    for j in range(i, len(given_array)):\n",
    "        sub_array_sum += given_array[j]\n",
    "        if sub_array_sum == 0:\n",
    "            sub_arrays.append(given_array[i: j+1])"
   ]
  },
  {
   "cell_type": "code",
   "execution_count": 3,
   "metadata": {},
   "outputs": [
    {
     "name": "stdout",
     "output_type": "stream",
     "text": [
      "[[3, 4, -7], [3, 4, -7, 3, 1, 3, 1, -4, -2, -2], [4, -7, 3], [-7, 3, 1, 3], [3, 1, 3, 1, -4, -2, -2], [3, 1, -4]]\n"
     ]
    }
   ],
   "source": [
    "print(sub_arrays)"
   ]
  },
  {
   "cell_type": "code",
   "execution_count": null,
   "metadata": {
    "collapsed": true
   },
   "outputs": [],
   "source": []
  }
 ],
 "metadata": {
  "kernelspec": {
   "display_name": "Python 3",
   "language": "python",
   "name": "python3"
  },
  "language_info": {
   "codemirror_mode": {
    "name": "ipython",
    "version": 3
   },
   "file_extension": ".py",
   "mimetype": "text/x-python",
   "name": "python",
   "nbconvert_exporter": "python",
   "pygments_lexer": "ipython3",
   "version": "3.6.3"
  }
 },
 "nbformat": 4,
 "nbformat_minor": 2
}
