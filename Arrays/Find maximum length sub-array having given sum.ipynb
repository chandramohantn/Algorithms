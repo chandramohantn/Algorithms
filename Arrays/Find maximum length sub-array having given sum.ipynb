{
 "cells": [
  {
   "cell_type": "raw",
   "metadata": {},
   "source": [
    "Given an array of integers, find maximum length sub-array having given sum."
   ]
  },
  {
   "cell_type": "code",
   "execution_count": 1,
   "metadata": {
    "collapsed": true
   },
   "outputs": [],
   "source": [
    "given_array = [5, 6, -5, 5, 3, 5, 3, -2, 0]\n",
    "given_sum = 8\n",
    "sub_array_sum = 0\n",
    "start = 0\n",
    "max_len = 0\n",
    "start_index, end_index = 0, 0"
   ]
  },
  {
   "cell_type": "code",
   "execution_count": 2,
   "metadata": {},
   "outputs": [
    {
     "name": "stdout",
     "output_type": "stream",
     "text": [
      "Max length sub-array having given sum is:  [-5, 5, 3, 5]\n"
     ]
    }
   ],
   "source": [
    "for i in range(len(given_array)):\n",
    "    sub_array_sum += given_array[i]\n",
    "    if sub_array_sum > given_sum:\n",
    "        sub_array_sum -= given_array[start]\n",
    "        start += 1\n",
    "    elif sub_array_sum == given_sum:\n",
    "        if max_len < (i - start + 1):\n",
    "            max_len = i - start + 1\n",
    "            start_index = start\n",
    "            end_index = i\n",
    "if max_len > 0:\n",
    "    print('Max length sub-array having given sum is: ', given_array[start_index: end_index+1])\n",
    "else:\n",
    "    print('Max length sub-array having given sum not found')"
   ]
  },
  {
   "cell_type": "code",
   "execution_count": null,
   "metadata": {
    "collapsed": true
   },
   "outputs": [],
   "source": []
  }
 ],
 "metadata": {
  "kernelspec": {
   "display_name": "Python 3",
   "language": "python",
   "name": "python3"
  },
  "language_info": {
   "codemirror_mode": {
    "name": "ipython",
    "version": 3
   },
   "file_extension": ".py",
   "mimetype": "text/x-python",
   "name": "python",
   "nbconvert_exporter": "python",
   "pygments_lexer": "ipython3",
   "version": "3.6.3"
  }
 },
 "nbformat": 4,
 "nbformat_minor": 2
}
