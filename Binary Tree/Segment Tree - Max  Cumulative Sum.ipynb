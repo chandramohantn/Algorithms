{
 "cells": [
  {
   "cell_type": "code",
   "execution_count": 1,
   "metadata": {
    "collapsed": true
   },
   "outputs": [],
   "source": [
    "import math"
   ]
  },
  {
   "cell_type": "code",
   "execution_count": 2,
   "metadata": {
    "collapsed": true
   },
   "outputs": [],
   "source": [
    "def construct_segment_tree(array, seg_array, start, end, pos):\n",
    "    if start == end:\n",
    "        seg_array[pos] = array[start]\n",
    "        return\n",
    "    mid = (start + end) // 2\n",
    "    construct_segment_tree(array, seg_array, start, mid, 2 * pos + 1)\n",
    "    construct_segment_tree(array, seg_array, mid + 1, end, 2 * pos + 2)\n",
    "    l_max = seg_array[2 * pos + 1]\n",
    "    r_max = seg_array[2 * pos + 2]\n",
    "    seg_array[pos] = max(l_max, l_max + r_max, r_max)"
   ]
  },
  {
   "cell_type": "code",
   "execution_count": 3,
   "metadata": {
    "collapsed": true
   },
   "outputs": [],
   "source": [
    "def range_query(seg_array, q_start, q_end, a_start, a_end, pos):\n",
    "    if a_start > q_end or a_end < q_start:\n",
    "        return None\n",
    "    elif q_start <= a_start and a_end <= q_end:\n",
    "        return seg_array[pos]\n",
    "    else:\n",
    "        mid = (a_start + a_end) // 2\n",
    "        l_max = range_query(seg_array, q_start, q_end, a_start, mid, 2 * pos + 1)\n",
    "        r_max = range_query(seg_array, q_start, q_end, mid + 1, a_end, 2 * pos + 2)\n",
    "        if l_max == None:\n",
    "            return r_max\n",
    "        elif r_max == None:\n",
    "            return l_max\n",
    "        else:\n",
    "            return max(l_max, l_max + r_max, r_max)"
   ]
  },
  {
   "cell_type": "code",
   "execution_count": 4,
   "metadata": {
    "collapsed": true
   },
   "outputs": [],
   "source": [
    "def get_power_2(n):\n",
    "    power = 1\n",
    "    count = 0\n",
    "    while power < n:\n",
    "        power *= 2\n",
    "        count += 1\n",
    "    return power"
   ]
  },
  {
   "cell_type": "code",
   "execution_count": 5,
   "metadata": {
    "collapsed": true
   },
   "outputs": [],
   "source": [
    "array = [8, 2, 4, 5, 3, 0, -1, 7, 1, 6]\n",
    "query = [3, 7]\n",
    "#array = [-1, -1, 1, 2, 4, 2, -1, -2, -3]\n",
    "#array = [-2, 1, 1, -2]\n",
    "#query = [1, 4]"
   ]
  },
  {
   "cell_type": "code",
   "execution_count": 6,
   "metadata": {},
   "outputs": [],
   "source": [
    "l = get_power_2(len(array))\n",
    "seg_tree = [0 for _ in range(2 * l - 1)]"
   ]
  },
  {
   "cell_type": "code",
   "execution_count": 7,
   "metadata": {},
   "outputs": [
    {
     "name": "stdout",
     "output_type": "stream",
     "text": [
      "[36, 22, 14, 14, 8, 7, 7, 10, 4, 5, 3, 0, 7, 1, 6, 8, 2, 0, 0, 0, 0, 0, 0, 0, -1, 0, 0, 0, 0, 0, 0]\n"
     ]
    }
   ],
   "source": [
    "construct_segment_tree(array, seg_tree, 0, len(array) - 1, 0)\n",
    "print(seg_tree)"
   ]
  },
  {
   "cell_type": "code",
   "execution_count": 8,
   "metadata": {},
   "outputs": [
    {
     "name": "stdout",
     "output_type": "stream",
     "text": [
      "12\n"
     ]
    }
   ],
   "source": [
    "maxm = range_query(seg_tree, query[0]-1, query[1]-1, 0, len(array) - 1, 0)\n",
    "print(maxm)"
   ]
  },
  {
   "cell_type": "code",
   "execution_count": null,
   "metadata": {
    "collapsed": true
   },
   "outputs": [],
   "source": []
  }
 ],
 "metadata": {
  "kernelspec": {
   "display_name": "Python 3",
   "language": "python",
   "name": "python3"
  },
  "language_info": {
   "codemirror_mode": {
    "name": "ipython",
    "version": 3
   },
   "file_extension": ".py",
   "mimetype": "text/x-python",
   "name": "python",
   "nbconvert_exporter": "python",
   "pygments_lexer": "ipython3",
   "version": "3.6.3"
  }
 },
 "nbformat": 4,
 "nbformat_minor": 2
}
