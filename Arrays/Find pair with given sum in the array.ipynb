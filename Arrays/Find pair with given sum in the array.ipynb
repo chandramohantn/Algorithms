{
 "cells": [
  {
   "cell_type": "raw",
   "metadata": {},
   "source": [
    "Given an unsorted array of integers, find a pair with given sum in it."
   ]
  },
  {
   "cell_type": "code",
   "execution_count": 1,
   "metadata": {
    "collapsed": true
   },
   "outputs": [],
   "source": [
    "given_array = [8, 7, 2, 5, 3, 1]\n",
    "given_sum = 10\n",
    "start = 0\n",
    "end = len(given_array) - 1\n",
    "pairs = []"
   ]
  },
  {
   "cell_type": "code",
   "execution_count": 2,
   "metadata": {},
   "outputs": [],
   "source": [
    "# Time complexity: O(nlogn)\n",
    "given_array.sort()\n",
    "while start < end:\n",
    "    if (given_array[start] + given_array[end]) == given_sum:\n",
    "        pairs.append([given_array[start], given_array[end]])\n",
    "        start += 1\n",
    "        end -= 1\n",
    "    elif (given_array[start] + given_array[end]) > given_sum:\n",
    "        end -= 1\n",
    "    else:\n",
    "        start += 1"
   ]
  },
  {
   "cell_type": "code",
   "execution_count": 3,
   "metadata": {},
   "outputs": [
    {
     "name": "stdout",
     "output_type": "stream",
     "text": [
      "[[2, 8], [3, 7]]\n"
     ]
    }
   ],
   "source": [
    "print(pairs)"
   ]
  },
  {
   "cell_type": "code",
   "execution_count": 4,
   "metadata": {},
   "outputs": [],
   "source": [
    "given_array = [8, 7, 2, 5, 3, 1]\n",
    "given_sum = 10\n",
    "pairs = []\n",
    "hashmap = {}"
   ]
  },
  {
   "cell_type": "code",
   "execution_count": 5,
   "metadata": {
    "collapsed": true
   },
   "outputs": [],
   "source": [
    "# Time complexity: O(n)\n",
    "for i in given_array:\n",
    "    if i not in hashmap:\n",
    "        hashmap[i] = given_sum - i\n",
    "        hashmap[given_sum - i] = i\n",
    "    else:\n",
    "        pairs.append([i, hashmap[i]])"
   ]
  },
  {
   "cell_type": "code",
   "execution_count": 6,
   "metadata": {},
   "outputs": [
    {
     "name": "stdout",
     "output_type": "stream",
     "text": [
      "[[2, 8], [3, 7]]\n"
     ]
    }
   ],
   "source": [
    "print(pairs)"
   ]
  },
  {
   "cell_type": "code",
   "execution_count": null,
   "metadata": {
    "collapsed": true
   },
   "outputs": [],
   "source": []
  }
 ],
 "metadata": {
  "kernelspec": {
   "display_name": "Python 3",
   "language": "python",
   "name": "python3"
  },
  "language_info": {
   "codemirror_mode": {
    "name": "ipython",
    "version": 3
   },
   "file_extension": ".py",
   "mimetype": "text/x-python",
   "name": "python",
   "nbconvert_exporter": "python",
   "pygments_lexer": "ipython3",
   "version": "3.6.3"
  }
 },
 "nbformat": 4,
 "nbformat_minor": 2
}
