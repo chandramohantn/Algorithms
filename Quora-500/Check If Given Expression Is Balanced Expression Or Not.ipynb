{
 "cells": [
  {
   "cell_type": "raw",
   "metadata": {},
   "source": [
    "Input: {()}[{}]\n",
    "Output: The expression is balanced"
   ]
  },
  {
   "cell_type": "code",
   "execution_count": 1,
   "metadata": {
    "collapsed": true
   },
   "outputs": [],
   "source": [
    "def check_balanced(exp):\n",
    "    top = -1\n",
    "    brackets = {'{': '}', '[': ']', '(': ')'}\n",
    "    tokens = [w for w in exp]\n",
    "    stack = [0 for _ in range(len(tokens))]\n",
    "    flag = 0\n",
    "    for token in tokens:\n",
    "        if token in brackets:\n",
    "            top += 1\n",
    "            stack[top] = token\n",
    "        else:\n",
    "            if brackets[stack[top]] != token:\n",
    "                flag = 1\n",
    "                break\n",
    "            else:\n",
    "                top -= 1\n",
    "    if flag == 1:\n",
    "        return False\n",
    "    else:\n",
    "        return True"
   ]
  },
  {
   "cell_type": "code",
   "execution_count": 2,
   "metadata": {},
   "outputs": [
    {
     "name": "stdout",
     "output_type": "stream",
     "text": [
      "The expression is balanced\n"
     ]
    }
   ],
   "source": [
    "expression = '{()}[{}]'\n",
    "if check_balanced(expression):\n",
    "    print('The expression is balanced')\n",
    "else:\n",
    "    print('The expression is unbalanced')"
   ]
  }
 ],
 "metadata": {
  "kernelspec": {
   "display_name": "Python 3",
   "language": "python",
   "name": "python3"
  },
  "language_info": {
   "codemirror_mode": {
    "name": "ipython",
    "version": 3
   },
   "file_extension": ".py",
   "mimetype": "text/x-python",
   "name": "python",
   "nbconvert_exporter": "python",
   "pygments_lexer": "ipython3",
   "version": "3.6.3"
  }
 },
 "nbformat": 4,
 "nbformat_minor": 2
}
