{
 "cells": [
  {
   "cell_type": "raw",
   "metadata": {},
   "source": [
    "Given an array of integers, find a subarray having given sum in it."
   ]
  },
  {
   "cell_type": "code",
   "execution_count": 1,
   "metadata": {
    "collapsed": true
   },
   "outputs": [],
   "source": [
    "#given_array = [2, 6, 0, 9, 7, 3, 1, 4, 1, 10]\n",
    "#given_sum = 15\n",
    "given_array = [0, 5, -7, 1, -4, 7, 6, 1, 4, 1, 10]\n",
    "#given_sum = 15\n",
    "given_sum = -3"
   ]
  },
  {
   "cell_type": "code",
   "execution_count": 2,
   "metadata": {
    "collapsed": true
   },
   "outputs": [],
   "source": [
    "m = len(given_array)"
   ]
  },
  {
   "cell_type": "code",
   "execution_count": 3,
   "metadata": {},
   "outputs": [
    {
     "name": "stdout",
     "output_type": "stream",
     "text": [
      "[1, -4]\n"
     ]
    }
   ],
   "source": [
    "for i in range(m):\n",
    "    j, cur_sum = i, 0\n",
    "    if given_sum > 0:\n",
    "        while (j < m) and (cur_sum < given_sum):\n",
    "            cur_sum += given_array[j]\n",
    "            j += 1\n",
    "        if cur_sum == given_sum:\n",
    "            print(given_array[i: j])\n",
    "    else:\n",
    "        while (j < m) and (cur_sum > given_sum):\n",
    "            cur_sum += given_array[j]\n",
    "            j += 1\n",
    "        if cur_sum == given_sum:\n",
    "            print(given_array[i: j])       "
   ]
  },
  {
   "cell_type": "code",
   "execution_count": null,
   "metadata": {
    "collapsed": true
   },
   "outputs": [],
   "source": []
  }
 ],
 "metadata": {
  "kernelspec": {
   "display_name": "Python 3",
   "language": "python",
   "name": "python3"
  },
  "language_info": {
   "codemirror_mode": {
    "name": "ipython",
    "version": 3
   },
   "file_extension": ".py",
   "mimetype": "text/x-python",
   "name": "python",
   "nbconvert_exporter": "python",
   "pygments_lexer": "ipython3",
   "version": "3.6.3"
  },
  "toc": {
   "base_numbering": 1,
   "nav_menu": {},
   "number_sections": false,
   "sideBar": false,
   "skip_h1_title": false,
   "title_cell": "Table of Contents",
   "title_sidebar": "Contents",
   "toc_cell": false,
   "toc_position": {},
   "toc_section_display": false,
   "toc_window_display": false
  }
 },
 "nbformat": 4,
 "nbformat_minor": 2
}
