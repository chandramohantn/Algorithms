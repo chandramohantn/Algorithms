{
 "cells": [
  {
   "cell_type": "raw",
   "metadata": {},
   "source": [
    "Element       NGE\n",
    "   4      -->   5\n",
    "   5      -->   25\n",
    "   2      -->   25\n",
    "   25     -->   -1\n",
    "   \n",
    "Element       NGE\n",
    "   13     -->    -1\n",
    "   7      -->     12\n",
    "   6      -->     12\n",
    "   12     -->     -1"
   ]
  },
  {
   "cell_type": "code",
   "execution_count": 1,
   "metadata": {},
   "outputs": [],
   "source": [
    "import math"
   ]
  },
  {
   "cell_type": "code",
   "execution_count": 2,
   "metadata": {},
   "outputs": [],
   "source": [
    "def next_greater_element(array):\n",
    "    imm_maxm = array[-1]\n",
    "    maxm = -1\n",
    "    next_max_array = [-1 for _ in range(len(array))]\n",
    "    for i in range(len(array)-2, -1, -1):\n",
    "        #print(array[i], imm_maxm, maxm)\n",
    "        if array[i] < imm_maxm:\n",
    "            next_max_array[i] = imm_maxm\n",
    "            maxm = imm_maxm\n",
    "            imm_maxm = array[i]\n",
    "        else:\n",
    "            if array[i] < maxm:\n",
    "                next_max_array[i] = maxm\n",
    "                imm_maxm = array[i]\n",
    "            else:\n",
    "                next_max_array[i] = -1\n",
    "                imm_maxm = array[i]\n",
    "                maxm = -1\n",
    "    return next_max_array"
   ]
  },
  {
   "cell_type": "code",
   "execution_count": 3,
   "metadata": {},
   "outputs": [
    {
     "name": "stdout",
     "output_type": "stream",
     "text": [
      "[5, 25, 25, -1]\n",
      "[-1, 12, 12, -1]\n"
     ]
    }
   ],
   "source": [
    "array = [4, 5, 2, 25]\n",
    "n_array = next_greater_element(array)\n",
    "print(n_array)\n",
    "\n",
    "array = [13, 7, 6, 12]\n",
    "n_array = next_greater_element(array)\n",
    "print(n_array)"
   ]
  },
  {
   "cell_type": "code",
   "execution_count": null,
   "metadata": {},
   "outputs": [],
   "source": []
  }
 ],
 "metadata": {
  "kernelspec": {
   "display_name": "Python 3",
   "language": "python",
   "name": "python3"
  },
  "language_info": {
   "codemirror_mode": {
    "name": "ipython",
    "version": 3
   },
   "file_extension": ".py",
   "mimetype": "text/x-python",
   "name": "python",
   "nbconvert_exporter": "python",
   "pygments_lexer": "ipython3",
   "version": "3.7.4"
  }
 },
 "nbformat": 4,
 "nbformat_minor": 2
}
