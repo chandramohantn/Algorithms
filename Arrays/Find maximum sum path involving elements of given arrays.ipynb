{
 "cells": [
  {
   "cell_type": "raw",
   "metadata": {},
   "source": [
    "Given two sorted array of integers, find a maximum sum path involving elements of both arrays."
   ]
  },
  {
   "cell_type": "code",
   "execution_count": 1,
   "metadata": {
    "collapsed": true
   },
   "outputs": [],
   "source": [
    "X = [3, 6, 7, 8, 10, 12, 15, 18, 100]\n",
    "Y = [1, 2, 3, 5, 7, 9, 10, 11, 15, 16, 18, 25, 50]"
   ]
  },
  {
   "cell_type": "code",
   "execution_count": 2,
   "metadata": {
    "collapsed": true
   },
   "outputs": [],
   "source": [
    "x_index = []\n",
    "y_index = []\n",
    "X = [0] + X\n",
    "Y = [0] + Y\n",
    "m = len(X)\n",
    "n = len(Y)\n",
    "max_path = ''"
   ]
  },
  {
   "cell_type": "code",
   "execution_count": 3,
   "metadata": {},
   "outputs": [],
   "source": [
    "for i in range(m):\n",
    "    for j in range(n):\n",
    "        if X[i] == Y[j]:\n",
    "            x_index.append(i)\n",
    "            y_index.append(j)\n",
    "x_index.append(m)\n",
    "y_index.append(n)\n",
    "\n",
    "for i in range(len(x_index)-1):\n",
    "    x_sum = X[x_index[i]: x_index[i+1]]\n",
    "    y_sum = Y[y_index[i]: y_index[i+1]]\n",
    "    if sum(x_sum) > sum(y_sum):\n",
    "           for j in x_sum:\n",
    "                max_path += str(j) + '->'\n",
    "    else:\n",
    "           for j in y_sum:\n",
    "                max_path += str(j) + '->'\n",
    "max_path = max_path[3: -2]"
   ]
  },
  {
   "cell_type": "code",
   "execution_count": 4,
   "metadata": {},
   "outputs": [
    {
     "name": "stdout",
     "output_type": "stream",
     "text": [
      "1->2->3->6->7->9->10->12->15->16->18->100\n"
     ]
    }
   ],
   "source": [
    "print(max_path)"
   ]
  },
  {
   "cell_type": "code",
   "execution_count": null,
   "metadata": {
    "collapsed": true
   },
   "outputs": [],
   "source": []
  }
 ],
 "metadata": {
  "kernelspec": {
   "display_name": "Python 3",
   "language": "python",
   "name": "python3"
  },
  "language_info": {
   "codemirror_mode": {
    "name": "ipython",
    "version": 3
   },
   "file_extension": ".py",
   "mimetype": "text/x-python",
   "name": "python",
   "nbconvert_exporter": "python",
   "pygments_lexer": "ipython3",
   "version": "3.6.3"
  },
  "toc": {
   "base_numbering": 1,
   "nav_menu": {},
   "number_sections": false,
   "sideBar": false,
   "skip_h1_title": false,
   "title_cell": "Table of Contents",
   "title_sidebar": "Contents",
   "toc_cell": false,
   "toc_position": {},
   "toc_section_display": false,
   "toc_window_display": false
  }
 },
 "nbformat": 4,
 "nbformat_minor": 2
}
