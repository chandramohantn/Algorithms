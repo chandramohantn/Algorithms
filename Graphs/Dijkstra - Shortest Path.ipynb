{
 "cells": [
  {
   "cell_type": "code",
   "execution_count": null,
   "metadata": {
    "collapsed": true
   },
   "outputs": [],
   "source": [
    "import math"
   ]
  },
  {
   "cell_type": "code",
   "execution_count": null,
   "metadata": {
    "collapsed": true
   },
   "outputs": [],
   "source": [
    "def min_heapify(dist, n, i):\n",
    "    l = 2 * i + 1\n",
    "    r = 2 * i + 2\n",
    "    minm = i\n",
    "    if l < n and dist[l][0] < dist[minm][0]:\n",
    "        minm = l\n",
    "    if r < n and dist[r][0] < dist[minm][0]:\n",
    "        minm = r\n",
    "    if minm != i:\n",
    "        tmp = dist[i]\n",
    "        dist[i] = dist[minm]\n",
    "        dist[minm] = tmp\n",
    "        min_heapify(dist, n, minm)"
   ]
  },
  {
   "cell_type": "code",
   "execution_count": null,
   "metadata": {},
   "outputs": [],
   "source": [
    "def build_min_heap(dist, n):\n",
    "    for i in range(n//2-1, -1, -1):\n",
    "        min_heapify(dist, n, i)"
   ]
  },
  {
   "cell_type": "code",
   "execution_count": null,
   "metadata": {
    "collapsed": true
   },
   "outputs": [],
   "source": [
    "def swap_nodes(min_heap, i, j):\n",
    "    tmp = min_heap[i]\n",
    "    min_heap[i] = min_heap[j]\n",
    "    min_heap[j] = tmp"
   ]
  },
  {
   "cell_type": "code",
   "execution_count": null,
   "metadata": {
    "collapsed": true
   },
   "outputs": [],
   "source": [
    "def get_dist_map(dist):\n",
    "    dist_map = {}\n",
    "    for d in dist:\n",
    "        if d[1][0] not in dist_map:\n",
    "            dist_map[d[1][0]] = {}\n",
    "        if d[1][1] not in dist_map[d[1][0]]:\n",
    "            dist_map[d[1][0]][d[1][1]] = d[0]\n",
    "        if d[1][1] not in dist_map:\n",
    "            dist_map[d[1][1]] = {}\n",
    "        if d[1][0] not in dist_map[d[1][1]]:\n",
    "            dist_map[d[1][1]][d[1][0]] = d[0]\n",
    "    return dist_map"
   ]
  },
  {
   "cell_type": "code",
   "execution_count": null,
   "metadata": {
    "collapsed": true
   },
   "outputs": [],
   "source": [
    "dist_array = [[2, (0, 1)], [4, (0, 2)], [7, (2, 4)], [3, (3, 5)], [1, (2, 3)], [2, (5, 4)], [1, (4, 6)], [5, (5, 6)]]\n",
    "nodes = []\n",
    "for d in dist_array:\n",
    "    nodes.append(d[1][0])\n",
    "    nodes.append(d[1][1])\n",
    "nodes = list(set(nodes))\n",
    "V = len(nodes)\n",
    "dist_map = get_dist_map(dist_array)\n",
    "dist_nodes = [math.inf for _ in range(V)]\n",
    "dist_nodes[0] = 0\n",
    "\n",
    "min_heap = dist_array\n",
    "build_min_heap(min_heap, n)\n",
    "swap_nodes(min_heap, 0, n-1)\n",
    "for i in range(1, n):\n",
    "    min_heapify(min_heap, n-i, 0)\n",
    "    swap_nodes(min_heap, 0, n-i-1)\n",
    "for i in range(n//2):\n",
    "    swap_nodes(min_heap, i, n-i-1)\n",
    "\n",
    "count = 0\n",
    "for i in range(n):\n",
    "    cur_edge = min_heap[i][1]\n",
    "    if par_id[par_array[cur_edge[0]]] != par_id[par_array[cur_edge[1]]]:\n",
    "        min_cost += min_heap[i][0]\n",
    "        min_tree.append(min_heap[i][1])\n",
    "        min_par = min(par_array[cur_edge[0]], par_array[cur_edge[1]])\n",
    "        min_par_id = min(par_id[par_array[cur_edge[0]]], par_id[par_array[cur_edge[1]]])\n",
    "        par_id[par_array[cur_edge[0]]], par_id[par_array[cur_edge[1]]] = min_par_id, min_par_id\n",
    "        par_array[cur_edge[0]], par_array[cur_edge[1]] = min_par, min_par\n",
    "        par_array[par_array[cur_edge[0]]], par_array[par_array[cur_edge[1]]] = min_par, min_par\n",
    "        count += 1\n",
    "        if count == (V-1):\n",
    "            break\n",
    "print(\"Shortest Distance: \", dist_nodes)"
   ]
  }
 ],
 "metadata": {
  "kernelspec": {
   "display_name": "Python 3",
   "language": "python",
   "name": "python3"
  },
  "language_info": {
   "codemirror_mode": {
    "name": "ipython",
    "version": 3
   },
   "file_extension": ".py",
   "mimetype": "text/x-python",
   "name": "python",
   "nbconvert_exporter": "python",
   "pygments_lexer": "ipython3",
   "version": "3.6.3"
  }
 },
 "nbformat": 4,
 "nbformat_minor": 2
}
