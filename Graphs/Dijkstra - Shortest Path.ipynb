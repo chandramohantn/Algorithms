{
 "cells": [
  {
   "cell_type": "code",
   "execution_count": 1,
   "metadata": {
    "collapsed": true
   },
   "outputs": [],
   "source": [
    "import math"
   ]
  },
  {
   "cell_type": "code",
   "execution_count": 2,
   "metadata": {
    "collapsed": true
   },
   "outputs": [],
   "source": [
    "def swap_nodes(min_heap, node_idx, i, j):\n",
    "    tmp = min_heap[i]\n",
    "    min_heap[i] = min_heap[j]\n",
    "    min_heap[j] = tmp\n",
    "    node_idx[min_heap[i][1]] = i\n",
    "    node_idx[min_heap[j][1]] = j"
   ]
  },
  {
   "cell_type": "code",
   "execution_count": 3,
   "metadata": {
    "collapsed": true
   },
   "outputs": [],
   "source": [
    "def min_heapify(min_heap, n, i):\n",
    "    l = 2 * i + 1\n",
    "    r = 2 * i + 2\n",
    "    minm = i\n",
    "    if l < n and min_heap[l][0] < min_heap[minm][0]:\n",
    "        minm = l\n",
    "    if r < n and min_heap[r][0] < min_heap[minm][0]:\n",
    "        minm = r\n",
    "    if minm != i:\n",
    "        swap_nodes(min_heap, node_idx, i, minm)\n",
    "        min_heapify(min_heap, n, minm)"
   ]
  },
  {
   "cell_type": "code",
   "execution_count": 4,
   "metadata": {
    "collapsed": true
   },
   "outputs": [],
   "source": [
    "def decrease_key(min_heap, node_idx, idx):\n",
    "    while idx > 0 and min_heap[idx][0] < min_heap[(idx- 1) // 2][0]:\n",
    "        swap_nodes(min_heap, node_idx, idx, (idx - 1) // 2)\n",
    "        idx = (idx - 1) // 2"
   ]
  },
  {
   "cell_type": "code",
   "execution_count": 5,
   "metadata": {
    "collapsed": true
   },
   "outputs": [],
   "source": [
    "def get_dist_map(dist):\n",
    "    dist_map = {}\n",
    "    for d in dist:\n",
    "        if d[1][0] not in dist_map:\n",
    "            dist_map[d[1][0]] = {}\n",
    "        if d[1][1] not in dist_map[d[1][0]]:\n",
    "            dist_map[d[1][0]][d[1][1]] = d[0]\n",
    "        if d[1][1] not in dist_map:\n",
    "            dist_map[d[1][1]] = {}\n",
    "        if d[1][0] not in dist_map[d[1][1]]:\n",
    "            dist_map[d[1][1]][d[1][0]] = d[0]\n",
    "    return dist_map"
   ]
  },
  {
   "cell_type": "code",
   "execution_count": 6,
   "metadata": {},
   "outputs": [
    {
     "name": "stdout",
     "output_type": "stream",
     "text": [
      "Shortest Distance:  [[67, 7], [56, 3], [44, 5], [42, 6], [35, 4], [28, 2], [10, 1], [0, 0]]\n"
     ]
    }
   ],
   "source": [
    "dist_array = [[10, (0, 1)], [28, (0, 2)], [25, (1, 4)], [16, (2, 5)], [14, (2, 6)], [18, (3, 6)], [22, (3, 4)], \n",
    "              [12, (3, 5)], [24, (4, 6)], [11, (3, 7)]]\n",
    "nodes = []\n",
    "for d in dist_array:\n",
    "    nodes.append(d[1][0])\n",
    "    nodes.append(d[1][1])\n",
    "\n",
    "nodes = list(set(nodes))\n",
    "V = len(nodes)\n",
    "dist_map = get_dist_map(dist_array)\n",
    "visited = [0 for _ in range(V)]\n",
    "min_heap = [[math.inf, i] for i in range(V)]\n",
    "\n",
    "cur_node = 0\n",
    "node_idx = {}\n",
    "\n",
    "for i in range(V):\n",
    "    node_idx[nodes[i]] = i\n",
    "min_heap[cur_node][0] = 0\n",
    "n = len(min_heap)\n",
    "\n",
    "for i in range(V):\n",
    "    cur_node = min_heap[0][1]\n",
    "    visited[cur_node] = 1\n",
    "    swap_nodes(min_heap, node_idx, 0, n-1)\n",
    "    n = n - 1\n",
    "    \n",
    "    for neighbor in dist_map[cur_node]:\n",
    "        neighbor_idx = node_idx[neighbor]\n",
    "        if visited[neighbor] == 0:\n",
    "            if min_heap[neighbor_idx][0] > dist_map[cur_node][neighbor] + min_heap[node_idx[cur_node]][0]:\n",
    "                min_heap[neighbor_idx][0] = dist_map[cur_node][neighbor] + min_heap[node_idx[cur_node]][0]\n",
    "                decrease_key(min_heap, node_idx, neighbor_idx)\n",
    "    min_heapify(min_heap, n, 0)\n",
    "print(\"Shortest Distance: \", min_heap)"
   ]
  },
  {
   "cell_type": "code",
   "execution_count": null,
   "metadata": {
    "collapsed": true
   },
   "outputs": [],
   "source": []
  }
 ],
 "metadata": {
  "kernelspec": {
   "display_name": "Python 3",
   "language": "python",
   "name": "python3"
  },
  "language_info": {
   "codemirror_mode": {
    "name": "ipython",
    "version": 3
   },
   "file_extension": ".py",
   "mimetype": "text/x-python",
   "name": "python",
   "nbconvert_exporter": "python",
   "pygments_lexer": "ipython3",
   "version": "3.6.3"
  }
 },
 "nbformat": 4,
 "nbformat_minor": 2
}
