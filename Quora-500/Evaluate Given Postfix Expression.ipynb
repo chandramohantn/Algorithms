{
 "cells": [
  {
   "cell_type": "raw",
   "metadata": {},
   "source": [
    "Input: 82/\n",
    "Output: 4"
   ]
  },
  {
   "cell_type": "code",
   "execution_count": 1,
   "metadata": {
    "collapsed": true
   },
   "outputs": [],
   "source": [
    "def evaluate_postfix(expression):\n",
    "    tokens = [w for w in expression]\n",
    "    stack = [0 for _ in range(len(tokens))]\n",
    "    top = -1\n",
    "    operators = ['+', '-', '*', '/', '^']\n",
    "    for token in tokens:\n",
    "        if token not in operators:\n",
    "            top += 1\n",
    "            stack[top] = int(token)\n",
    "        else:\n",
    "            op2 = stack[top]\n",
    "            top -= 1\n",
    "            op1 = stack[top]\n",
    "            if token == '+':\n",
    "                stack[top] = op1 + op2\n",
    "            elif token == '-':\n",
    "                stack[top] = op1 - op2\n",
    "            elif token == '*':\n",
    "                stack[top] = op1 * op2\n",
    "            elif token == '/':\n",
    "                stack[top] = op1 // op2\n",
    "            elif token == '^':\n",
    "                stack[top] = op1 ** op2\n",
    "    return stack[top]"
   ]
  },
  {
   "cell_type": "code",
   "execution_count": 2,
   "metadata": {},
   "outputs": [],
   "source": [
    "#expression = '82/'\n",
    "expression = '545*+5/'\n",
    "result = evaluate_postfix(expression)"
   ]
  },
  {
   "cell_type": "code",
   "execution_count": 3,
   "metadata": {},
   "outputs": [
    {
     "name": "stdout",
     "output_type": "stream",
     "text": [
      "Result: 5\n"
     ]
    }
   ],
   "source": [
    "print('Result: ' + str(result))"
   ]
  },
  {
   "cell_type": "code",
   "execution_count": null,
   "metadata": {
    "collapsed": true
   },
   "outputs": [],
   "source": []
  }
 ],
 "metadata": {
  "kernelspec": {
   "display_name": "Python 3",
   "language": "python",
   "name": "python3"
  },
  "language_info": {
   "codemirror_mode": {
    "name": "ipython",
    "version": 3
   },
   "file_extension": ".py",
   "mimetype": "text/x-python",
   "name": "python",
   "nbconvert_exporter": "python",
   "pygments_lexer": "ipython3",
   "version": "3.6.3"
  }
 },
 "nbformat": 4,
 "nbformat_minor": 2
}
