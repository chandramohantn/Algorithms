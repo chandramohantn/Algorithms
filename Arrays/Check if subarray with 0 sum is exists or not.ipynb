{
 "cells": [
  {
   "cell_type": "raw",
   "metadata": {},
   "source": [
    "Given an array of integers, check if array contains a sub-array having 0 sum"
   ]
  },
  {
   "cell_type": "code",
   "execution_count": 1,
   "metadata": {
    "collapsed": true
   },
   "outputs": [],
   "source": [
    "given_array = [4, 2, -3, -1, 0, 4]\n",
    "intermediate_sums = [given_array[0]]\n",
    "flag = 0"
   ]
  },
  {
   "cell_type": "code",
   "execution_count": 2,
   "metadata": {},
   "outputs": [
    {
     "name": "stdout",
     "output_type": "stream",
     "text": [
      "Sub-array with sum zero exists !!!\n"
     ]
    }
   ],
   "source": [
    "for number in given_array[1:]:\n",
    "    if (intermediate_sums[-1] + number) in intermediate_sums:\n",
    "        flag = 1\n",
    "        break\n",
    "    else:\n",
    "        intermediate_sums.append(intermediate_sums[-1] + number)\n",
    "if flag == 0:\n",
    "    print('Sub-array with sum zero does not exists !!!')\n",
    "else:\n",
    "    print('Sub-array with sum zero exists !!!')"
   ]
  },
  {
   "cell_type": "code",
   "execution_count": null,
   "metadata": {
    "collapsed": true
   },
   "outputs": [],
   "source": []
  }
 ],
 "metadata": {
  "kernelspec": {
   "display_name": "Python 3",
   "language": "python",
   "name": "python3"
  },
  "language_info": {
   "codemirror_mode": {
    "name": "ipython",
    "version": 3
   },
   "file_extension": ".py",
   "mimetype": "text/x-python",
   "name": "python",
   "nbconvert_exporter": "python",
   "pygments_lexer": "ipython3",
   "version": "3.6.3"
  }
 },
 "nbformat": 4,
 "nbformat_minor": 2
}
