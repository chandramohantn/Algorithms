{
 "cells": [
  {
   "cell_type": "raw",
   "metadata": {},
   "source": [
    "Given an circular array of integers, find subarray in it which has the largest sum."
   ]
  },
  {
   "cell_type": "code",
   "execution_count": 1,
   "metadata": {
    "collapsed": true
   },
   "outputs": [],
   "source": [
    "def max_sum_subarray(array):\n",
    "    prv_sum = 0\n",
    "    cur_sum = 0\n",
    "    for i in range(len(array)):\n",
    "        cur_sum += array[i]\n",
    "        if cur_sum < 0:\n",
    "            cur_sum = 0\n",
    "        if prv_sum < cur_sum:\n",
    "            prv_sum = cur_sum\n",
    "    return prv_sum"
   ]
  },
  {
   "cell_type": "code",
   "execution_count": 2,
   "metadata": {},
   "outputs": [],
   "source": [
    "#given_array = [2, 1, -5, 4, -3, 1, -3, 4, -1]\n",
    "given_array = [-2, 1, -3, 4, -1, 2, 1, -5, 4]\n",
    "m = len(given_array)\n",
    "tot_sum = sum(given_array)\n",
    "max_sum = max_sum_subarray(given_array)"
   ]
  },
  {
   "cell_type": "code",
   "execution_count": 3,
   "metadata": {
    "collapsed": true
   },
   "outputs": [],
   "source": [
    "for i in range(m):\n",
    "    given_array[i] = -given_array[i]\n",
    "min_sum = max_sum_subarray(given_array)"
   ]
  },
  {
   "cell_type": "code",
   "execution_count": 4,
   "metadata": {},
   "outputs": [
    {
     "name": "stdout",
     "output_type": "stream",
     "text": [
      "Largest subarray sum in circular array is:  6\n"
     ]
    }
   ],
   "source": [
    "max_sum_cir_subarray = max(max_sum, tot_sum + min_sum)\n",
    "print('Largest subarray sum in circular array is: ', max_sum_cir_subarray)"
   ]
  },
  {
   "cell_type": "code",
   "execution_count": null,
   "metadata": {
    "collapsed": true
   },
   "outputs": [],
   "source": []
  }
 ],
 "metadata": {
  "kernelspec": {
   "display_name": "Python 3",
   "language": "python",
   "name": "python3"
  },
  "language_info": {
   "codemirror_mode": {
    "name": "ipython",
    "version": 3
   },
   "file_extension": ".py",
   "mimetype": "text/x-python",
   "name": "python",
   "nbconvert_exporter": "python",
   "pygments_lexer": "ipython3",
   "version": "3.6.3"
  }
 },
 "nbformat": 4,
 "nbformat_minor": 2
}
