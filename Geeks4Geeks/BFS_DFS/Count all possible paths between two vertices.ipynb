{
 "cells": [
  {
   "cell_type": "code",
   "execution_count": 1,
   "metadata": {},
   "outputs": [],
   "source": [
    "def find_paths(start, end):\n",
    "    if start == end:\n",
    "        return 1\n",
    "    else:\n",
    "        count = 0\n",
    "        adj_vertices = adj_list[start]\n",
    "        for vertex in adj_vertices:\n",
    "            count += find_paths(vertex, end)\n",
    "        return count"
   ]
  },
  {
   "cell_type": "code",
   "execution_count": 2,
   "metadata": {},
   "outputs": [],
   "source": [
    "n_vertices = 6\n",
    "start, end = 0, 4\n",
    "edges = [[0, 1], [0, 2], [0, 4], [1, 3], [1, 4], [2, 4], [3, 2], [2, 5], [5, 4], [3, 5]]\n",
    "adj_list = {}\n",
    "for edge in edges:\n",
    "    if edge[0] not in adj_list:\n",
    "        adj_list[edge[0]] = [edge[1]]\n",
    "    else:\n",
    "        adj_list[edge[0]].append(edge[1])\n",
    "\n",
    "n_paths = find_paths(start, end)"
   ]
  },
  {
   "cell_type": "code",
   "execution_count": 3,
   "metadata": {},
   "outputs": [
    {
     "name": "stdout",
     "output_type": "stream",
     "text": [
      "Total number of paths:  7\n"
     ]
    }
   ],
   "source": [
    "print('Total number of paths: ', n_paths)"
   ]
  }
 ],
 "metadata": {
  "kernelspec": {
   "display_name": "Python 3",
   "language": "python",
   "name": "python3"
  },
  "language_info": {
   "codemirror_mode": {
    "name": "ipython",
    "version": 3
   },
   "file_extension": ".py",
   "mimetype": "text/x-python",
   "name": "python",
   "nbconvert_exporter": "python",
   "pygments_lexer": "ipython3",
   "version": "3.7.4"
  }
 },
 "nbformat": 4,
 "nbformat_minor": 2
}
