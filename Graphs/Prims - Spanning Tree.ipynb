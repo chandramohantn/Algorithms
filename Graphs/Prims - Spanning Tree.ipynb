{
 "cells": [
  {
   "cell_type": "code",
   "execution_count": 1,
   "metadata": {
    "collapsed": true
   },
   "outputs": [],
   "source": [
    "def min_heapify(dist, n, i):\n",
    "    l = 2 * i + 1\n",
    "    r = 2 * i + 2\n",
    "    minm = i\n",
    "    if l < n and dist[l][0] < dist[minm][0]:\n",
    "        minm = l\n",
    "    if r < n and dist[r][0] < dist[minm][0]:\n",
    "        minm = r\n",
    "    if minm != i:\n",
    "        tmp = dist[i]\n",
    "        dist[i] = dist[minm]\n",
    "        dist[minm] = tmp\n",
    "        min_heapify(dist, n, minm)"
   ]
  },
  {
   "cell_type": "code",
   "execution_count": 2,
   "metadata": {
    "collapsed": true
   },
   "outputs": [],
   "source": [
    "def build_min_heap(dist):\n",
    "    l = len(dist)\n",
    "    for i in range(l//2 - 1, -1, -1):\n",
    "        min_heapify(dist, l, i)"
   ]
  },
  {
   "cell_type": "code",
   "execution_count": 3,
   "metadata": {
    "collapsed": true
   },
   "outputs": [],
   "source": [
    "# Input\n",
    "input_string = \"1 6 10 - 1 2 28 - 6 5 25 - 5 7 24 - 5 4 22 - 4 3 12 - 3 2 16 - 2 7 14 - 7 4 18\""
   ]
  },
  {
   "cell_type": "code",
   "execution_count": 4,
   "metadata": {
    "collapsed": true
   },
   "outputs": [],
   "source": [
    "dist_map = {}\n",
    "dist_array = []\n",
    "for items in input_string.split(' - '):\n",
    "    n1, n2, dist = list(map(int, items.split()))\n",
    "    if n1 not in dist_map:\n",
    "        dist_map[n1] = {}\n",
    "    if n2 not in dist_map:\n",
    "        dist_map[n2] = {}\n",
    "    if n2 not in dist_map[n1]:\n",
    "            dist_map[n1][n2] = dist\n",
    "    if n1 not in dist_map[n2]:\n",
    "        dist_map[n2][n1] = dist\n",
    "    dist_array.append([dist, (n1, n2)])"
   ]
  },
  {
   "cell_type": "code",
   "execution_count": 5,
   "metadata": {},
   "outputs": [
    {
     "name": "stdout",
     "output_type": "stream",
     "text": [
      "[[10, (1, 6)], [28, (1, 2)], [25, (6, 5)], [24, (5, 7)], [22, (5, 4)], [12, (4, 3)], [16, (3, 2)], [14, (2, 7)], [18, (7, 4)]]\n",
      "[[10, (1, 6)], [14, (2, 7)], [12, (4, 3)], [18, (7, 4)], [22, (5, 4)], [25, (6, 5)], [16, (3, 2)], [24, (5, 7)], [28, (1, 2)]]\n"
     ]
    }
   ],
   "source": [
    "# Create min-heap from dist_array\n",
    "print(dist_array)\n",
    "build_min_heap(dist_array)\n",
    "print(dist_array)"
   ]
  },
  {
   "cell_type": "code",
   "execution_count": null,
   "metadata": {
    "collapsed": true
   },
   "outputs": [],
   "source": [
    "# Data structures for storing variables\n",
    "visited = [0 for _ in range(len(dist_map))]\n",
    "start = dist_array[0]\n",
    "open_edges = [start[1][0], start[1][1]]"
   ]
  },
  {
   "cell_type": "code",
   "execution_count": null,
   "metadata": {
    "collapsed": true
   },
   "outputs": [],
   "source": []
  },
  {
   "cell_type": "code",
   "execution_count": null,
   "metadata": {
    "collapsed": true
   },
   "outputs": [],
   "source": []
  },
  {
   "cell_type": "code",
   "execution_count": null,
   "metadata": {
    "collapsed": true
   },
   "outputs": [],
   "source": []
  }
 ],
 "metadata": {
  "kernelspec": {
   "display_name": "Python 3",
   "language": "python",
   "name": "python3"
  },
  "language_info": {
   "codemirror_mode": {
    "name": "ipython",
    "version": 3
   },
   "file_extension": ".py",
   "mimetype": "text/x-python",
   "name": "python",
   "nbconvert_exporter": "python",
   "pygments_lexer": "ipython3",
   "version": "3.6.3"
  }
 },
 "nbformat": 4,
 "nbformat_minor": 2
}
