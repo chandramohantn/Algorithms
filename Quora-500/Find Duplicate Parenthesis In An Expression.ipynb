{
 "cells": [
  {
   "cell_type": "raw",
   "metadata": {},
   "source": [
    "Input: ((x + y)) + z\n",
    "Output: Duplicate () found in expression"
   ]
  },
  {
   "cell_type": "code",
   "execution_count": 1,
   "metadata": {
    "collapsed": true
   },
   "outputs": [],
   "source": [
    "def check_duplicate(expression):\n",
    "    tokens = [w for w in expression]\n",
    "    stack = [0 for _ in range(len(tokens))]\n",
    "    top = -1\n",
    "    flag = 0\n",
    "    for token in tokens:\n",
    "        if token != ')':\n",
    "            top += 1\n",
    "            stack[top] = token\n",
    "        else:\n",
    "            if stack[top] == '(':\n",
    "                flag = 1\n",
    "                break\n",
    "            else:\n",
    "                while stack[top] != '(':\n",
    "                    top -= 1\n",
    "                top -= 1\n",
    "    if flag == 1:\n",
    "        return True\n",
    "    else:\n",
    "        return False"
   ]
  },
  {
   "cell_type": "code",
   "execution_count": 2,
   "metadata": {},
   "outputs": [
    {
     "name": "stdout",
     "output_type": "stream",
     "text": [
      "No duplicate () found in expression\n"
     ]
    }
   ],
   "source": [
    "#expression = '((x + y)) + z'\n",
    "#expression = '(x + y) + z'\n",
    "#expression = '((x + y) + z)'\n",
    "expression = '((x + y) * (y + z))'\n",
    "if check_duplicate(expression):\n",
    "    print('Duplicate () found in expression')\n",
    "else:\n",
    "    print('No duplicate () found in expression')"
   ]
  },
  {
   "cell_type": "code",
   "execution_count": null,
   "metadata": {
    "collapsed": true
   },
   "outputs": [],
   "source": []
  }
 ],
 "metadata": {
  "kernelspec": {
   "display_name": "Python 3",
   "language": "python",
   "name": "python3"
  },
  "language_info": {
   "codemirror_mode": {
    "name": "ipython",
    "version": 3
   },
   "file_extension": ".py",
   "mimetype": "text/x-python",
   "name": "python",
   "nbconvert_exporter": "python",
   "pygments_lexer": "ipython3",
   "version": "3.6.3"
  }
 },
 "nbformat": 4,
 "nbformat_minor": 2
}
