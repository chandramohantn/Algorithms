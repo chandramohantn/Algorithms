{
 "cells": [
  {
   "cell_type": "raw",
   "metadata": {},
   "source": [
    "Given an array of integers, find minimum sum subarray of given size k."
   ]
  },
  {
   "cell_type": "code",
   "execution_count": 1,
   "metadata": {
    "collapsed": true
   },
   "outputs": [],
   "source": [
    "#given_array = [10, 4, 2, 5, 6, 3, 8, 1]\n",
    "given_array = [10, 4, 2, 5, 6, 3, 1, 2, 0, 0, 1, 8, 1]\n",
    "m = len(given_array)\n",
    "k = 3"
   ]
  },
  {
   "cell_type": "code",
   "execution_count": 2,
   "metadata": {
    "collapsed": true
   },
   "outputs": [],
   "source": [
    "min_sum = 1000000\n",
    "start_index = 0\n",
    "min_start = 0\n",
    "min_end = m\n",
    "cur_sum = 0\n",
    "count = 0"
   ]
  },
  {
   "cell_type": "code",
   "execution_count": 3,
   "metadata": {},
   "outputs": [],
   "source": [
    "for i in range(m):\n",
    "    count += 1\n",
    "    if count > k:\n",
    "        if cur_sum < min_sum:\n",
    "            min_sum = cur_sum\n",
    "            min_end = i -1 \n",
    "            min_start = start_index\n",
    "        cur_sum = cur_sum - given_array[start_index] + given_array[i]\n",
    "        start_index += 1\n",
    "    else:\n",
    "        cur_sum += given_array[i]"
   ]
  },
  {
   "cell_type": "code",
   "execution_count": 4,
   "metadata": {},
   "outputs": [
    {
     "name": "stdout",
     "output_type": "stream",
     "text": [
      "Minimum sum sub-array indexed from 8 to 10 and min sum is 1\n"
     ]
    }
   ],
   "source": [
    "print(\"Minimum sum sub-array indexed from %d to %d and min sum is %d\" % (min_start, min_end, min_sum))"
   ]
  },
  {
   "cell_type": "code",
   "execution_count": null,
   "metadata": {
    "collapsed": true
   },
   "outputs": [],
   "source": []
  }
 ],
 "metadata": {
  "kernelspec": {
   "display_name": "Python 3",
   "language": "python",
   "name": "python3"
  },
  "language_info": {
   "codemirror_mode": {
    "name": "ipython",
    "version": 3
   },
   "file_extension": ".py",
   "mimetype": "text/x-python",
   "name": "python",
   "nbconvert_exporter": "python",
   "pygments_lexer": "ipython3",
   "version": "3.6.3"
  }
 },
 "nbformat": 4,
 "nbformat_minor": 2
}
