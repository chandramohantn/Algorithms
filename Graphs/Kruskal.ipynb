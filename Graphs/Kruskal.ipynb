{
 "cells": [
  {
   "cell_type": "code",
   "execution_count": 1,
   "metadata": {},
   "outputs": [],
   "source": [
    "class UnDirectedGraph:\n",
    "    \n",
    "    def __init__(self):\n",
    "        self.graph = {}\n",
    "        self.node_index = {}\n",
    "        self.n_nodes = 0\n",
    "        \n",
    "    def add_node(self, node):\n",
    "        self.graph[node] = {}\n",
    "        \n",
    "    def add_connection(self, node1, node2, weight):\n",
    "        self.graph[node1][node2] = weight\n",
    "        self.graph[node2][node1] = weight\n",
    "        if node1 not in self.node_index:\n",
    "            self.node_index[node1] = self.n_nodes\n",
    "            self.n_nodes += 1\n",
    "        if node2 not in self.node_index:\n",
    "            self.node_index[node2] = self.n_nodes\n",
    "            self.n_nodes += 1\n",
    "        \n",
    "    def find_min_edge(self):\n",
    "        min_dist = float(\"inf\")\n",
    "        for node in self.graph.keys():\n",
    "            for adj_node in self.graph[node].keys():\n",
    "                if self.components[self.node_index[node]] != self.components[self.node_index[adj_node]]:\n",
    "                        if min_dist > self.graph[node][adj_node]:\n",
    "                            min_dist = self.graph[node][adj_node]\n",
    "                            min_nodes = (node, adj_node)\n",
    "        return min_dist, min_nodes\n",
    "    \n",
    "    def kruskal(self):\n",
    "        visited = [0 for _ in range(self.n_nodes)]\n",
    "        self.components = [i+1 for i in range(self.n_nodes)]\n",
    "        self.min_span_tree = []\n",
    "        self.min_span_dist = 0\n",
    "        min_dist = float(\"inf\")\n",
    "        for node in self.graph.keys():\n",
    "            for adj_node in self.graph[node].keys():\n",
    "                if min_dist > self.graph[node][adj_node]:\n",
    "                    min_dist = self.graph[node][adj_node]\n",
    "                    min_nodes = (node, adj_node)\n",
    "        self.min_span_tree.append(min_nodes)            \n",
    "        self.min_span_dist += min_dist\n",
    "        min_component = min(self.components[self.node_index[min_nodes[0]]], self.components[self.node_index[min_nodes[1]]])\n",
    "        max_component = max(self.components[self.node_index[min_nodes[0]]], self.components[self.node_index[min_nodes[1]]])\n",
    "        self.components[self.node_index[min_nodes[0]]] = min_component\n",
    "        self.components[self.node_index[min_nodes[1]]] = min_component\n",
    "        for i in range(self.n_nodes):\n",
    "            if self.components[i] == max_component:\n",
    "                self.components[i] = min_component\n",
    "        \n",
    "        count = 1\n",
    "        while count < (self.n_nodes - 1):\n",
    "            min_dist, min_nodes = self.find_min_edge()\n",
    "            self.min_span_tree.append(min_nodes)\n",
    "            self.min_span_dist += min_dist\n",
    "            min_component = min(self.components[self.node_index[min_nodes[0]]], self.components[self.node_index[min_nodes[1]]])\n",
    "            max_component = max(self.components[self.node_index[min_nodes[0]]], self.components[self.node_index[min_nodes[1]]])\n",
    "            self.components[self.node_index[min_nodes[0]]] = min_component\n",
    "            self.components[self.node_index[min_nodes[1]]] = min_component\n",
    "            for i in range(self.n_nodes):\n",
    "                if self.components[i] == max_component:\n",
    "                    self.components[i] = min_component\n",
    "            count += 1"
   ]
  },
  {
   "cell_type": "code",
   "execution_count": 2,
   "metadata": {},
   "outputs": [
    {
     "name": "stdout",
     "output_type": "stream",
     "text": [
      "[('1', '6'), ('3', '4'), ('2', '7'), ('2', '3'), ('4', '5'), ('5', '6')]\n",
      "99\n"
     ]
    }
   ],
   "source": [
    "graph = UnDirectedGraph()\n",
    "graph.add_node('1')\n",
    "graph.add_node('2')\n",
    "graph.add_node('3')\n",
    "graph.add_node('4')\n",
    "graph.add_node('5')\n",
    "graph.add_node('6')\n",
    "graph.add_node('7')\n",
    "graph.add_connection('1', '2', 28)\n",
    "graph.add_connection('1', '6', 10)\n",
    "graph.add_connection('6', '5', 25)\n",
    "graph.add_connection('5', '4', 22)\n",
    "graph.add_connection('4', '3', 12)\n",
    "graph.add_connection('4', '7', 18)\n",
    "graph.add_connection('5', '7', 24)\n",
    "graph.add_connection('7', '2', 14)\n",
    "graph.add_connection('2', '3', 16)\n",
    "graph.kruskal()\n",
    "print(graph.min_span_tree)\n",
    "print(graph.min_span_dist)"
   ]
  },
  {
   "cell_type": "code",
   "execution_count": null,
   "metadata": {},
   "outputs": [],
   "source": []
  }
 ],
 "metadata": {
  "kernelspec": {
   "display_name": "Python 3",
   "language": "python",
   "name": "python3"
  },
  "language_info": {
   "codemirror_mode": {
    "name": "ipython",
    "version": 3
   },
   "file_extension": ".py",
   "mimetype": "text/x-python",
   "name": "python",
   "nbconvert_exporter": "python",
   "pygments_lexer": "ipython3",
   "version": "3.7.3"
  }
 },
 "nbformat": 4,
 "nbformat_minor": 2
}
