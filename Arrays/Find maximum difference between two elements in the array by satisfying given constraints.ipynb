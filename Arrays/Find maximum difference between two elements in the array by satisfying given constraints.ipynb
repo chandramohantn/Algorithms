{
 "cells": [
  {
   "cell_type": "raw",
   "metadata": {},
   "source": [
    "Given an array of integers, find maximum difference between two elements in the array such that smaller element appears before larger element."
   ]
  },
  {
   "cell_type": "code",
   "execution_count": 1,
   "metadata": {
    "collapsed": true
   },
   "outputs": [],
   "source": [
    "given_array = [2, 7, 9, 5, 1, 3, 5]\n",
    "m = len(given_array)\n",
    "maxm = -100000\n",
    "minm = 100000"
   ]
  },
  {
   "cell_type": "code",
   "execution_count": 2,
   "metadata": {
    "collapsed": true
   },
   "outputs": [],
   "source": [
    "# Two traversals of the given array\n",
    "for i in range(m):\n",
    "    if given_array[i] > maxm:\n",
    "        maxm = given_array[i]\n",
    "        max_index = i\n",
    "        \n",
    "for i in range(0, max_index):\n",
    "    if given_array[i] < minm:\n",
    "        minm = given_array[i]\n",
    "        \n",
    "max_difference = maxm - minm"
   ]
  },
  {
   "cell_type": "code",
   "execution_count": 3,
   "metadata": {},
   "outputs": [
    {
     "name": "stdout",
     "output_type": "stream",
     "text": [
      "7\n"
     ]
    }
   ],
   "source": [
    "print(max_difference)"
   ]
  },
  {
   "cell_type": "code",
   "execution_count": 4,
   "metadata": {
    "collapsed": true
   },
   "outputs": [],
   "source": [
    "given_array = [2, 7, 9, 5, 1, 3, 5]\n",
    "m = len(given_array)\n",
    "max_difference = -100000\n",
    "maxm = given_array[-1]"
   ]
  },
  {
   "cell_type": "code",
   "execution_count": 5,
   "metadata": {
    "collapsed": true
   },
   "outputs": [],
   "source": [
    "# Single traversal of the array\n",
    "for i in range(m-2, -1, -1):\n",
    "    if given_array[i] > maxm:\n",
    "        maxm = given_array[i]\n",
    "    else:\n",
    "        difference = maxm - given_array[i]\n",
    "        if difference > max_difference:\n",
    "            max_difference = difference"
   ]
  },
  {
   "cell_type": "code",
   "execution_count": 6,
   "metadata": {},
   "outputs": [
    {
     "name": "stdout",
     "output_type": "stream",
     "text": [
      "7\n"
     ]
    }
   ],
   "source": [
    "print(max_difference)"
   ]
  },
  {
   "cell_type": "code",
   "execution_count": null,
   "metadata": {
    "collapsed": true
   },
   "outputs": [],
   "source": []
  }
 ],
 "metadata": {
  "kernelspec": {
   "display_name": "Python 3",
   "language": "python",
   "name": "python3"
  },
  "language_info": {
   "codemirror_mode": {
    "name": "ipython",
    "version": 3
   },
   "file_extension": ".py",
   "mimetype": "text/x-python",
   "name": "python",
   "nbconvert_exporter": "python",
   "pygments_lexer": "ipython3",
   "version": "3.6.3"
  }
 },
 "nbformat": 4,
 "nbformat_minor": 2
}
