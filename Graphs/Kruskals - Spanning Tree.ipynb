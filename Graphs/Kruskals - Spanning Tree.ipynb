{
 "cells": [
  {
   "cell_type": "code",
   "execution_count": 1,
   "metadata": {
    "collapsed": true
   },
   "outputs": [],
   "source": [
    "def min_heapify(dist, n, i):\n",
    "    l = 2 * i + 1\n",
    "    r = 2 * i + 2\n",
    "    minm = i\n",
    "    if l < n and dist[l][0] < dist[minm][0]:\n",
    "        minm = l\n",
    "    if r < n and dist[r][0] < dist[minm][0]:\n",
    "        minm = r\n",
    "    if minm != i:\n",
    "        tmp = dist[i]\n",
    "        dist[i] = dist[minm]\n",
    "        dist[minm] = tmp\n",
    "        min_heapify(dist, n, minm)"
   ]
  },
  {
   "cell_type": "code",
   "execution_count": 2,
   "metadata": {
    "collapsed": true
   },
   "outputs": [],
   "source": [
    "def build_min_heap(dist, n):\n",
    "    for i in range(n//2-1, -1, -1):\n",
    "        min_heapify(dist, n, i)"
   ]
  },
  {
   "cell_type": "code",
   "execution_count": 3,
   "metadata": {
    "collapsed": true
   },
   "outputs": [],
   "source": [
    "def swap_nodes(dist, i, j):\n",
    "    tmp = dist[i]\n",
    "    dist[i] = dist[j]\n",
    "    dist[j] = tmp"
   ]
  },
  {
   "cell_type": "code",
   "execution_count": 4,
   "metadata": {
    "collapsed": true
   },
   "outputs": [],
   "source": [
    "def get_parent(par_array, node):\n",
    "    par = par_array[node]\n",
    "    if par == node:\n",
    "        return par\n",
    "    else:\n",
    "        return get_parent(par_array, par)"
   ]
  },
  {
   "cell_type": "code",
   "execution_count": 5,
   "metadata": {},
   "outputs": [
    {
     "name": "stdout",
     "output_type": "stream",
     "text": [
      "[0, 1, 2, 3, 4, 5, 6, 7]\n",
      "(0, 1)\n",
      "0 1\n",
      "[0, 0, 2, 3, 4, 5, 6, 7]\n",
      "(3, 7)\n",
      "3 7\n",
      "[0, 0, 2, 3, 4, 5, 6, 3]\n",
      "(3, 5)\n",
      "3 5\n",
      "[0, 0, 2, 3, 4, 3, 6, 3]\n",
      "(2, 6)\n",
      "2 6\n",
      "[0, 0, 2, 3, 4, 3, 2, 3]\n",
      "(2, 5)\n",
      "2 3\n",
      "[0, 0, 2, 2, 4, 3, 2, 3]\n",
      "(3, 4)\n",
      "2 4\n",
      "[0, 0, 2, 2, 2, 3, 2, 3]\n",
      "(1, 4)\n",
      "0 2\n",
      "Minimum Cost:  110\n",
      "Minimum Cost Spanning Tree:  [(0, 1), (3, 7), (3, 5), (2, 6), (2, 5), (3, 4), (1, 4)]\n"
     ]
    }
   ],
   "source": [
    "dist_array = [[10, (0, 1)], [28, (0, 2)], [25, (1, 4)], [16, (2, 5)], [14, (2, 6)], [18, (3, 6)], [22, (3, 4)], \n",
    "              [12, (3, 5)], [24, (4, 6)], [11, (3, 7)]]\n",
    "n = len(dist_array)\n",
    "nodes = []\n",
    "for d in dist_array:\n",
    "    nodes.append(d[1][0])\n",
    "    nodes.append(d[1][1])\n",
    "nodes = list(set(nodes))\n",
    "V = len(nodes)\n",
    "\n",
    "build_min_heap(dist_array, n)\n",
    "swap_nodes(dist_array, 0, n-1)\n",
    "for i in range(1, n):\n",
    "    min_heapify(dist_array, n-i, 0)\n",
    "    swap_nodes(dist_array, 0, n-i-1)\n",
    "for i in range(n//2):\n",
    "    swap_nodes(dist_array, i, n-i-1)\n",
    "\n",
    "min_cost = 0\n",
    "min_tree = []\n",
    "par_array = [i for i in range(V)]\n",
    "\n",
    "for i in range(n):\n",
    "    cur_edge = dist_array[i][1]\n",
    "    par1 = get_parent(par_array, cur_edge[0])\n",
    "    par2 = get_parent(par_array, cur_edge[1])\n",
    "    if par1 != par2:\n",
    "        min_cost += dist_array[i][0]\n",
    "        min_tree.append(dist_array[i][1])\n",
    "        min_par = min(par1, par2)\n",
    "        par_array[par1], par_array[par2] = min_par, min_par\n",
    "print(\"Minimum Cost: \", min_cost)\n",
    "print(\"Minimum Cost Spanning Tree: \", min_tree)"
   ]
  },
  {
   "cell_type": "code",
   "execution_count": null,
   "metadata": {
    "collapsed": true
   },
   "outputs": [],
   "source": []
  }
 ],
 "metadata": {
  "kernelspec": {
   "display_name": "Python 3",
   "language": "python",
   "name": "python3"
  },
  "language_info": {
   "codemirror_mode": {
    "name": "ipython",
    "version": 3
   },
   "file_extension": ".py",
   "mimetype": "text/x-python",
   "name": "python",
   "nbconvert_exporter": "python",
   "pygments_lexer": "ipython3",
   "version": "3.6.3"
  }
 },
 "nbformat": 4,
 "nbformat_minor": 2
}
