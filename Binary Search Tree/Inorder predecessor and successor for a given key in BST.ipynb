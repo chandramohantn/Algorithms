{
 "cells": [
  {
   "cell_type": "code",
   "execution_count": 1,
   "metadata": {},
   "outputs": [],
   "source": [
    "class Node:\n",
    "\n",
    "    def __init__(self, value):\n",
    "        self.value = value\n",
    "        self.right = None\n",
    "        self.left = None"
   ]
  },
  {
   "cell_type": "code",
   "execution_count": 2,
   "metadata": {},
   "outputs": [],
   "source": [
    "class BST:\n",
    "    \n",
    "    def __init__(self, root):\n",
    "        self.root = root     \n",
    "        \n",
    "    def insert(self, root, value):\n",
    "        if root.value > value:\n",
    "            if root.left is None:\n",
    "                root.left = Node(value)\n",
    "            else:\n",
    "                self.insert(root.left, value)\n",
    "        else:\n",
    "            if root.right is None:\n",
    "                root.right = Node(value)\n",
    "            else:\n",
    "                self.insert(root.right, value)\n",
    "                \n",
    "    def inorder_successor(self, node):\n",
    "        while node.left is not None:\n",
    "            node = node.left\n",
    "        return node\n",
    "    \n",
    "    def inorder_predecessor(self, node):\n",
    "        while node.right is not None:\n",
    "            node = node.right\n",
    "        return node\n",
    "    \n",
    "    def search(self, root, value):\n",
    "        flag = 0\n",
    "        while root is not None:\n",
    "            if root.value > value:\n",
    "                root = root.left\n",
    "            elif root.value < value:\n",
    "                root = root.right\n",
    "            else:\n",
    "                flag = 1\n",
    "                break\n",
    "        if flag == 1:\n",
    "            return root\n",
    "        else:\n",
    "            return None"
   ]
  },
  {
   "cell_type": "code",
   "execution_count": 3,
   "metadata": {},
   "outputs": [
    {
     "name": "stdout",
     "output_type": "stream",
     "text": [
      "Inorder Successor:  3\n",
      "Inorder Predecessor:  1.5\n"
     ]
    }
   ],
   "source": [
    "root = Node(5)\n",
    "bst = BST(root)\n",
    "values = [2, 4, 3, 9, 6, 1, 8, 4.5, 0.5, 1.5]\n",
    "# Inserting values into bst\n",
    "for value in values:\n",
    "    bst.insert(root, value)\n",
    "    \n",
    "given_key = 2\n",
    "node = bst.search(root, given_key)\n",
    "succ = bst.inorder_successor(node.right)\n",
    "pred = bst.inorder_predecessor(node.left)\n",
    "\n",
    "print('Inorder Successor: ', succ.value)\n",
    "print('Inorder Predecessor: ', pred.value)"
   ]
  },
  {
   "cell_type": "code",
   "execution_count": null,
   "metadata": {},
   "outputs": [],
   "source": []
  }
 ],
 "metadata": {
  "kernelspec": {
   "display_name": "Python 3",
   "language": "python",
   "name": "python3"
  },
  "language_info": {
   "codemirror_mode": {
    "name": "ipython",
    "version": 3
   },
   "file_extension": ".py",
   "mimetype": "text/x-python",
   "name": "python",
   "nbconvert_exporter": "python",
   "pygments_lexer": "ipython3",
   "version": "3.7.3"
  }
 },
 "nbformat": 4,
 "nbformat_minor": 2
}
