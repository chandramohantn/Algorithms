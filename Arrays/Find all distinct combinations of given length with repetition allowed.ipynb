{
 "cells": [
  {
   "cell_type": "raw",
   "metadata": {},
   "source": [
    "Given an array of integers, find all distinct combinations of given length where repetition of elements is allowed."
   ]
  },
  {
   "cell_type": "code",
   "execution_count": 1,
   "metadata": {
    "collapsed": true
   },
   "outputs": [],
   "source": [
    "#given_array = [1, 2, 1]\n",
    "#given_array = [1, 2, 3, 4]\n",
    "given_array = [1, 2, 3]\n",
    "length = 2\n",
    "combinations = set()"
   ]
  },
  {
   "cell_type": "code",
   "execution_count": 2,
   "metadata": {
    "collapsed": true
   },
   "outputs": [],
   "source": [
    "def permute(array, output, start, end, length):\n",
    "    if length == 0:\n",
    "        combinations.add(output[0: -1])\n",
    "        return\n",
    "    else:\n",
    "        while start > 0 and start < (end - 1) and array[start] == array[start+1]:\n",
    "            start += 1\n",
    "        for i in range(start, end):\n",
    "            permute(array, output + str(array[i]) + ',', i+1, end, length-1)"
   ]
  },
  {
   "cell_type": "code",
   "execution_count": 3,
   "metadata": {},
   "outputs": [],
   "source": [
    "count = set()\n",
    "for i in given_array:\n",
    "    if i not in count:\n",
    "        count.add(i)\n",
    "        s = str(i)\n",
    "        for j in range(length-1):\n",
    "            s += ',' + str(i)\n",
    "        combinations.add(s)\n",
    "given_array.sort()\n",
    "permute(given_array, \"\", 0, len(given_array), length)"
   ]
  },
  {
   "cell_type": "code",
   "execution_count": 4,
   "metadata": {},
   "outputs": [
    {
     "name": "stdout",
     "output_type": "stream",
     "text": [
      "{'1,1', '1,3', '1,2', '3,3', '2,3', '2,2'}\n"
     ]
    }
   ],
   "source": [
    "print(combinations)"
   ]
  },
  {
   "cell_type": "code",
   "execution_count": null,
   "metadata": {
    "collapsed": true
   },
   "outputs": [],
   "source": []
  }
 ],
 "metadata": {
  "kernelspec": {
   "display_name": "Python 3",
   "language": "python",
   "name": "python3"
  },
  "language_info": {
   "codemirror_mode": {
    "name": "ipython",
    "version": 3
   },
   "file_extension": ".py",
   "mimetype": "text/x-python",
   "name": "python",
   "nbconvert_exporter": "python",
   "pygments_lexer": "ipython3",
   "version": "3.6.3"
  }
 },
 "nbformat": 4,
 "nbformat_minor": 2
}
