{
 "cells": [
  {
   "cell_type": "raw",
   "metadata": {},
   "source": [
    "Input: 1 2 3 4 5 6 2\n",
    "Output: 1 2 3 4 5 6"
   ]
  },
  {
   "cell_type": "code",
   "execution_count": 1,
   "metadata": {},
   "outputs": [],
   "source": [
    "class Node:\n",
    "    \n",
    "    def __init__(self, value):\n",
    "        self.value = value\n",
    "        self.link = None"
   ]
  },
  {
   "cell_type": "code",
   "execution_count": 2,
   "metadata": {},
   "outputs": [],
   "source": [
    "class LinkedList:\n",
    "    \n",
    "    def __init__(self):\n",
    "        self.head = None\n",
    "        \n",
    "    def add(self, value):\n",
    "        node = Node(value)\n",
    "        node.link = self.head\n",
    "        self.head = node\n",
    "        \n",
    "    def traverse(self):\n",
    "        head = self.head\n",
    "        s = ''\n",
    "        while head != None:\n",
    "            s += str(head.value) + '->'\n",
    "            head = head.link\n",
    "        return s[0: -2]\n",
    "    \n",
    "    def detect_remove_loop(self):\n",
    "        ptr1 = self.head.link\n",
    "        ptr2 = self.head.link.link\n",
    "        flag = 0\n",
    "        while ptr2 != None:\n",
    "            if ptr1 == ptr2:\n",
    "                flag = 1\n",
    "                break\n",
    "            else:\n",
    "                ptr1 = ptr1.link\n",
    "                ptr2 = ptr2.link.link\n",
    "        if flag == 1:\n",
    "            ptr1 = self.head\n",
    "            while ptr1.link != ptr2.link:\n",
    "                ptr1 = ptr1.link\n",
    "                ptr2 = ptr2.link\n",
    "            ptr2.link = None"
   ]
  },
  {
   "cell_type": "code",
   "execution_count": 3,
   "metadata": {},
   "outputs": [
    {
     "data": {
      "text/plain": [
       "'50->20->15->4->10'"
      ]
     },
     "execution_count": 3,
     "metadata": {},
     "output_type": "execute_result"
    }
   ],
   "source": [
    "llist = LinkedList() \n",
    "llist.head = Node(50) \n",
    "llist.head.link = Node(20) \n",
    "llist.head.link.link = Node(15) \n",
    "llist.head.link.link.link = Node(4) \n",
    "llist.head.link.link.link.link = Node(10) \n",
    "  \n",
    "# Create a loop for testing\n",
    "llist.head.link.link.link.link.link = llist.head.link.link\n",
    "llist.detect_remove_loop()\n",
    "llist.traverse()"
   ]
  }
 ],
 "metadata": {
  "kernelspec": {
   "display_name": "Python 3",
   "language": "python",
   "name": "python3"
  },
  "language_info": {
   "codemirror_mode": {
    "name": "ipython",
    "version": 3
   },
   "file_extension": ".py",
   "mimetype": "text/x-python",
   "name": "python",
   "nbconvert_exporter": "python",
   "pygments_lexer": "ipython3",
   "version": "3.7.4"
  }
 },
 "nbformat": 4,
 "nbformat_minor": 2
}
