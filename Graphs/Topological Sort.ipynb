{
 "cells": [
  {
   "cell_type": "code",
   "execution_count": 1,
   "metadata": {},
   "outputs": [],
   "source": [
    "class DirectedGraph:\n",
    "    \n",
    "    def __init__(self):\n",
    "        self.graph = {}\n",
    "        self.n_nodes = 0\n",
    "        self.node_index = {}\n",
    "        self.inv_index = {}\n",
    "        \n",
    "    def add_node(self, node):\n",
    "        self.graph[node] = []\n",
    "        self.node_index[node] = self.n_nodes\n",
    "        self.inv_index[self.n_nodes] = node\n",
    "        self.n_nodes += 1\n",
    "        \n",
    "    def add_connection(self, node1, node2):\n",
    "        self.graph[node1].append(node2)\n",
    "        \n",
    "    def topological_sort(self):\n",
    "        topological_order = []\n",
    "        visited = [0 for _ in range(self.n_nodes)]\n",
    "        in_degree = [0 for _ in range(self.n_nodes)]\n",
    "        for node in self.graph.keys():\n",
    "            for adj_node in self.graph[node]:\n",
    "                in_degree[self.node_index[adj_node]] += 1\n",
    "        \n",
    "        while sum(visited) < self.n_nodes:\n",
    "            for i in range(self.n_nodes):\n",
    "                if (in_degree[i] == 0) and (visited[i] == 0):\n",
    "                    topological_order.append(self.inv_index[i])\n",
    "                    visited[i] = 1\n",
    "                    for adj_node in self.graph[self.inv_index[i]]:\n",
    "                        in_degree[self.node_index[adj_node]] -= 1\n",
    "                    break\n",
    "        return topological_order"
   ]
  },
  {
   "cell_type": "code",
   "execution_count": 2,
   "metadata": {},
   "outputs": [
    {
     "name": "stdout",
     "output_type": "stream",
     "text": [
      "['A', 'B', 'C', 'D', 'E', 'F', 'G', 'H']\n"
     ]
    }
   ],
   "source": [
    "graph = DirectedGraph()\n",
    "graph.add_node('A')\n",
    "graph.add_node('B')\n",
    "graph.add_node('C')\n",
    "graph.add_node('D')\n",
    "graph.add_node('E')\n",
    "graph.add_node('F')\n",
    "graph.add_node('G')\n",
    "graph.add_node('H')\n",
    "graph.add_connection('A', 'C')\n",
    "graph.add_connection('B', 'C')\n",
    "graph.add_connection('C', 'E')\n",
    "graph.add_connection('B', 'D')\n",
    "graph.add_connection('E', 'H')\n",
    "graph.add_connection('E', 'F')\n",
    "graph.add_connection('D', 'F')\n",
    "graph.add_connection('F', 'G')\n",
    "topological_order = graph.topological_sort()\n",
    "print(topological_order)"
   ]
  },
  {
   "cell_type": "code",
   "execution_count": null,
   "metadata": {},
   "outputs": [],
   "source": []
  }
 ],
 "metadata": {
  "kernelspec": {
   "display_name": "Python 3",
   "language": "python",
   "name": "python3"
  },
  "language_info": {
   "codemirror_mode": {
    "name": "ipython",
    "version": 3
   },
   "file_extension": ".py",
   "mimetype": "text/x-python",
   "name": "python",
   "nbconvert_exporter": "python",
   "pygments_lexer": "ipython3",
   "version": "3.7.3"
  }
 },
 "nbformat": 4,
 "nbformat_minor": 2
}
