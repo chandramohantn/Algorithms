{
 "cells": [
  {
   "cell_type": "raw",
   "metadata": {},
   "source": [
    "Input: exp = “[()]{}{[()()]()}”\n",
    "Output: Balanced\n",
    "\n",
    "Input: exp = “[(])”\n",
    "Output: Not Balanced"
   ]
  },
  {
   "cell_type": "code",
   "execution_count": 1,
   "metadata": {},
   "outputs": [],
   "source": [
    "def balanced_parenthesis(expression):\n",
    "    brackets = {'[': ']', '{': '}', '(': ')'}\n",
    "    stack = [0 for _ in range(len(expression))]\n",
    "    top = -1\n",
    "    flag = 0\n",
    "    for bracket in expression:\n",
    "        if bracket in brackets:\n",
    "            top += 1\n",
    "            stack[top] = bracket\n",
    "        else:\n",
    "            if brackets[stack[top]] == bracket:\n",
    "                stack[top] = 0\n",
    "                top -= 1\n",
    "            else:\n",
    "                flag = 1\n",
    "                break\n",
    "        #print(stack)\n",
    "    if flag == 1:\n",
    "        print('Not Balanced')\n",
    "    else:\n",
    "        print('Balanced')"
   ]
  },
  {
   "cell_type": "code",
   "execution_count": 2,
   "metadata": {},
   "outputs": [
    {
     "name": "stdout",
     "output_type": "stream",
     "text": [
      "Balanced\n",
      "Not Balanced\n"
     ]
    }
   ],
   "source": [
    "expr = \"[()]{}{[()()]()}\"\n",
    "balanced_parenthesis([w for w in expr])\n",
    "\n",
    "expr = \"[(])\"\n",
    "balanced_parenthesis([w for w in expr])"
   ]
  },
  {
   "cell_type": "code",
   "execution_count": null,
   "metadata": {},
   "outputs": [],
   "source": []
  }
 ],
 "metadata": {
  "kernelspec": {
   "display_name": "Python 3",
   "language": "python",
   "name": "python3"
  },
  "language_info": {
   "codemirror_mode": {
    "name": "ipython",
    "version": 3
   },
   "file_extension": ".py",
   "mimetype": "text/x-python",
   "name": "python",
   "nbconvert_exporter": "python",
   "pygments_lexer": "ipython3",
   "version": "3.7.4"
  }
 },
 "nbformat": 4,
 "nbformat_minor": 2
}
